{
 "cells": [
  {
   "cell_type": "code",
   "execution_count": 2,
   "metadata": {},
   "outputs": [],
   "source": [
    "import pandas as pd\n",
    "import os\n",
    "import sys"
   ]
  },
  {
   "cell_type": "code",
   "execution_count": 3,
   "metadata": {},
   "outputs": [],
   "source": [
    "raw_data_dir = '../data/raw/'\n",
    "processed_data_dir = '../data/processed/'\n",
    "\n",
    "reviews_input_file = os.path.join(raw_data_dir, 'reviews_dedup.parquet')"
   ]
  },
  {
   "cell_type": "markdown",
   "metadata": {},
   "source": [
    "## 1. Load Raw Data"
   ]
  },
  {
   "cell_type": "code",
   "execution_count": 4,
   "metadata": {},
   "outputs": [
    {
     "name": "stdout",
     "output_type": "stream",
     "text": [
      "\n",
      "Loading reviews data from: ../data/raw/reviews_dedup.parquet\n",
      "Reviews DataFrame loaded successfully.\n",
      "\n",
      "Reviews Info:\n",
      "<class 'pandas.core.frame.DataFrame'>\n",
      "RangeIndex: 15739967 entries, 0 to 15739966\n",
      "Data columns (total 11 columns):\n",
      " #   Column        Dtype \n",
      "---  ------        ----- \n",
      " 0   user_id       object\n",
      " 1   book_id       int64 \n",
      " 2   review_id     object\n",
      " 3   rating        int64 \n",
      " 4   review_text   object\n",
      " 5   date_added    object\n",
      " 6   date_updated  object\n",
      " 7   read_at       object\n",
      " 8   started_at    object\n",
      " 9   n_votes       int64 \n",
      " 10  n_comments    int64 \n",
      "dtypes: int64(4), object(7)\n",
      "memory usage: 18.2 GB\n"
     ]
    }
   ],
   "source": [
    "print(f\"\\nLoading reviews data from: {reviews_input_file}\")\n",
    "try:\n",
    "    reviews_df = pd.read_parquet(reviews_input_file)\n",
    "    print(\"Reviews DataFrame loaded successfully.\")\n",
    "    print(\"\\nReviews Info:\")\n",
    "    reviews_df.info(memory_usage='deep')\n",
    "except FileNotFoundError:\n",
    "    print(f\"ERROR: Reviews file not found at {reviews_input_file}\", file=sys.stderr)\n",
    "except Exception as e:\n",
    "    print(f\"ERROR: Failed to load reviews file: {e}\", file=sys.stderr)"
   ]
  },
  {
   "cell_type": "code",
   "execution_count": 5,
   "metadata": {},
   "outputs": [
    {
     "data": {
      "text/html": [
       "<div>\n",
       "<style scoped>\n",
       "    .dataframe tbody tr th:only-of-type {\n",
       "        vertical-align: middle;\n",
       "    }\n",
       "\n",
       "    .dataframe tbody tr th {\n",
       "        vertical-align: top;\n",
       "    }\n",
       "\n",
       "    .dataframe thead th {\n",
       "        text-align: right;\n",
       "    }\n",
       "</style>\n",
       "<table border=\"1\" class=\"dataframe\">\n",
       "  <thead>\n",
       "    <tr style=\"text-align: right;\">\n",
       "      <th></th>\n",
       "      <th>user_id</th>\n",
       "      <th>book_id</th>\n",
       "      <th>review_id</th>\n",
       "      <th>rating</th>\n",
       "      <th>review_text</th>\n",
       "      <th>date_added</th>\n",
       "      <th>date_updated</th>\n",
       "      <th>read_at</th>\n",
       "      <th>started_at</th>\n",
       "      <th>n_votes</th>\n",
       "      <th>n_comments</th>\n",
       "    </tr>\n",
       "  </thead>\n",
       "  <tbody>\n",
       "    <tr>\n",
       "      <th>0</th>\n",
       "      <td>8842281e1d1347389f2ab93d60773d4d</td>\n",
       "      <td>24375664</td>\n",
       "      <td>5cd416f3efc3f944fce4ce2db2290d5e</td>\n",
       "      <td>5</td>\n",
       "      <td>Mind blowingly cool. Best science fiction I've...</td>\n",
       "      <td>Fri Aug 25 13:55:02 -0700 2017</td>\n",
       "      <td>Mon Oct 09 08:55:59 -0700 2017</td>\n",
       "      <td>Sat Oct 07 00:00:00 -0700 2017</td>\n",
       "      <td>Sat Aug 26 00:00:00 -0700 2017</td>\n",
       "      <td>16</td>\n",
       "      <td>0</td>\n",
       "    </tr>\n",
       "  </tbody>\n",
       "</table>\n",
       "</div>"
      ],
      "text/plain": [
       "                            user_id   book_id  \\\n",
       "0  8842281e1d1347389f2ab93d60773d4d  24375664   \n",
       "\n",
       "                          review_id  rating  \\\n",
       "0  5cd416f3efc3f944fce4ce2db2290d5e       5   \n",
       "\n",
       "                                         review_text  \\\n",
       "0  Mind blowingly cool. Best science fiction I've...   \n",
       "\n",
       "                       date_added                    date_updated  \\\n",
       "0  Fri Aug 25 13:55:02 -0700 2017  Mon Oct 09 08:55:59 -0700 2017   \n",
       "\n",
       "                          read_at                      started_at  n_votes  \\\n",
       "0  Sat Oct 07 00:00:00 -0700 2017  Sat Aug 26 00:00:00 -0700 2017       16   \n",
       "\n",
       "   n_comments  \n",
       "0           0  "
      ]
     },
     "execution_count": 5,
     "metadata": {},
     "output_type": "execute_result"
    }
   ],
   "source": [
    "reviews_df.head(1)"
   ]
  },
  {
   "cell_type": "markdown",
   "metadata": {},
   "source": [
    "## 2. Drop Not Needed Columns"
   ]
  },
  {
   "cell_type": "code",
   "execution_count": 6,
   "metadata": {},
   "outputs": [
    {
     "data": {
      "text/html": [
       "<div>\n",
       "<style scoped>\n",
       "    .dataframe tbody tr th:only-of-type {\n",
       "        vertical-align: middle;\n",
       "    }\n",
       "\n",
       "    .dataframe tbody tr th {\n",
       "        vertical-align: top;\n",
       "    }\n",
       "\n",
       "    .dataframe thead th {\n",
       "        text-align: right;\n",
       "    }\n",
       "</style>\n",
       "<table border=\"1\" class=\"dataframe\">\n",
       "  <thead>\n",
       "    <tr style=\"text-align: right;\">\n",
       "      <th></th>\n",
       "      <th>user_id</th>\n",
       "      <th>book_id</th>\n",
       "      <th>rating</th>\n",
       "    </tr>\n",
       "  </thead>\n",
       "  <tbody>\n",
       "    <tr>\n",
       "      <th>0</th>\n",
       "      <td>8842281e1d1347389f2ab93d60773d4d</td>\n",
       "      <td>24375664</td>\n",
       "      <td>5</td>\n",
       "    </tr>\n",
       "  </tbody>\n",
       "</table>\n",
       "</div>"
      ],
      "text/plain": [
       "                            user_id   book_id  rating\n",
       "0  8842281e1d1347389f2ab93d60773d4d  24375664       5"
      ]
     },
     "execution_count": 6,
     "metadata": {},
     "output_type": "execute_result"
    }
   ],
   "source": [
    "columns_to_keep = ['user_id', 'book_id', 'rating']\n",
    "interactions_df = reviews_df[columns_to_keep].copy()\n",
    "\n",
    "interactions_df.head(1)"
   ]
  },
  {
   "cell_type": "markdown",
   "metadata": {},
   "source": [
    "## 3. Map Ids to Integer Indeces"
   ]
  },
  {
   "cell_type": "code",
   "execution_count": 7,
   "metadata": {},
   "outputs": [
    {
     "name": "stdout",
     "output_type": "stream",
     "text": [
      "Mapped 465323 unique users to indices 0-465322.\n",
      "Mapped 2080190 unique items (books) to indices 0-2080189.\n",
      "\n",
      "Total unique users: 465323\n",
      "Total unique items: 2080190\n",
      "Total interactions: 15739967\n"
     ]
    },
    {
     "data": {
      "text/html": [
       "<div>\n",
       "<style scoped>\n",
       "    .dataframe tbody tr th:only-of-type {\n",
       "        vertical-align: middle;\n",
       "    }\n",
       "\n",
       "    .dataframe tbody tr th {\n",
       "        vertical-align: top;\n",
       "    }\n",
       "\n",
       "    .dataframe thead th {\n",
       "        text-align: right;\n",
       "    }\n",
       "</style>\n",
       "<table border=\"1\" class=\"dataframe\">\n",
       "  <thead>\n",
       "    <tr style=\"text-align: right;\">\n",
       "      <th></th>\n",
       "      <th>user_id</th>\n",
       "      <th>book_id</th>\n",
       "      <th>rating</th>\n",
       "      <th>user_idx</th>\n",
       "      <th>item_idx</th>\n",
       "    </tr>\n",
       "  </thead>\n",
       "  <tbody>\n",
       "    <tr>\n",
       "      <th>0</th>\n",
       "      <td>8842281e1d1347389f2ab93d60773d4d</td>\n",
       "      <td>24375664</td>\n",
       "      <td>5</td>\n",
       "      <td>0</td>\n",
       "      <td>0</td>\n",
       "    </tr>\n",
       "    <tr>\n",
       "      <th>1</th>\n",
       "      <td>8842281e1d1347389f2ab93d60773d4d</td>\n",
       "      <td>18245960</td>\n",
       "      <td>5</td>\n",
       "      <td>0</td>\n",
       "      <td>1</td>\n",
       "    </tr>\n",
       "    <tr>\n",
       "      <th>2</th>\n",
       "      <td>8842281e1d1347389f2ab93d60773d4d</td>\n",
       "      <td>6392944</td>\n",
       "      <td>3</td>\n",
       "      <td>0</td>\n",
       "      <td>2</td>\n",
       "    </tr>\n",
       "    <tr>\n",
       "      <th>3</th>\n",
       "      <td>8842281e1d1347389f2ab93d60773d4d</td>\n",
       "      <td>22078596</td>\n",
       "      <td>4</td>\n",
       "      <td>0</td>\n",
       "      <td>3</td>\n",
       "    </tr>\n",
       "    <tr>\n",
       "      <th>4</th>\n",
       "      <td>8842281e1d1347389f2ab93d60773d4d</td>\n",
       "      <td>6644782</td>\n",
       "      <td>4</td>\n",
       "      <td>0</td>\n",
       "      <td>4</td>\n",
       "    </tr>\n",
       "  </tbody>\n",
       "</table>\n",
       "</div>"
      ],
      "text/plain": [
       "                            user_id   book_id  rating  user_idx  item_idx\n",
       "0  8842281e1d1347389f2ab93d60773d4d  24375664       5         0         0\n",
       "1  8842281e1d1347389f2ab93d60773d4d  18245960       5         0         1\n",
       "2  8842281e1d1347389f2ab93d60773d4d   6392944       3         0         2\n",
       "3  8842281e1d1347389f2ab93d60773d4d  22078596       4         0         3\n",
       "4  8842281e1d1347389f2ab93d60773d4d   6644782       4         0         4"
      ]
     },
     "execution_count": 7,
     "metadata": {},
     "output_type": "execute_result"
    }
   ],
   "source": [
    "# Use factorize to get integer codes and the unique original IDs\n",
    "user_codes, unique_user_ids = pd.factorize(interactions_df['user_id'])\n",
    "\n",
    "# Add the new user index column to the DataFrame\n",
    "interactions_df['user_idx'] = user_codes\n",
    "\n",
    "# Create mapping dictionaries\n",
    "user_id_to_idx = {user_id: idx for idx, user_id in enumerate(unique_user_ids)}\n",
    "idx_to_user_id = {idx: user_id for user_id, idx in user_id_to_idx.items()}\n",
    "\n",
    "# Get the total number of unique users\n",
    "n_users = len(unique_user_ids)\n",
    "\n",
    "print(f\"Mapped {n_users} unique users to indices 0-{n_users-1}.\")\n",
    "\n",
    "# Use factorize again for book_id\n",
    "item_codes, unique_item_ids = pd.factorize(interactions_df['book_id'])\n",
    "\n",
    "# Add the new item index column\n",
    "interactions_df['item_idx'] = item_codes\n",
    "\n",
    "# Create mapping dictionaries\n",
    "item_id_to_idx = {item_id: idx for idx, item_id in enumerate(unique_item_ids)}\n",
    "idx_to_item_id = {idx: item_id for item_id, idx in item_id_to_idx.items()}\n",
    "\n",
    "# Get the total number of unique items\n",
    "n_items = len(unique_item_ids)\n",
    "\n",
    "print(f\"Mapped {n_items} unique items (books) to indices 0-{n_items-1}.\")\n",
    "print(f\"\\nTotal unique users: {n_users}\")\n",
    "print(f\"Total unique items: {n_items}\")\n",
    "print(f\"Total interactions: {len(reviews_df)}\")\n",
    "interactions_df.head()"
   ]
  },
  {
   "cell_type": "markdown",
   "metadata": {},
   "source": [
    "## 4. Create Positive & Negative Only Rating DataFrames"
   ]
  },
  {
   "cell_type": "code",
   "execution_count": 8,
   "metadata": {},
   "outputs": [
    {
     "name": "stdout",
     "output_type": "stream",
     "text": [
      "Total Positive Interactions:  10515445\n",
      "rating\n",
      "4    5250205\n",
      "5    5265240\n",
      "Name: count, dtype: int64\n",
      "\n",
      "Total Negative Interactions:  2106997\n",
      "rating\n",
      "0     551885\n",
      "1     448016\n",
      "2    1107096\n",
      "Name: count, dtype: int64\n"
     ]
    }
   ],
   "source": [
    "positive_threshold = 4\n",
    "negative_threshold = 2\n",
    "\n",
    "positive_interactions_df = interactions_df[interactions_df['rating'] >= positive_threshold].copy()\n",
    "negative_interactions_df = interactions_df[interactions_df['rating'] <= negative_threshold].copy()\n",
    "\n",
    "positive_rating_counts = positive_interactions_df['rating'].value_counts()\n",
    "negative_rating_counts = negative_interactions_df['rating'].value_counts()\n",
    "\n",
    "positive_rating_counts = positive_rating_counts.sort_index()\n",
    "negative_rating_counts = negative_rating_counts.sort_index()\n",
    "\n",
    "print(\"Total Positive Interactions: \", len(positive_interactions_df))\n",
    "print(positive_rating_counts)\n",
    "\n",
    "print(\"\\nTotal Negative Interactions: \", len(negative_interactions_df))\n",
    "print(negative_rating_counts)"
   ]
  },
  {
   "cell_type": "markdown",
   "metadata": {},
   "source": [
    "## 5. Save Interactions as .parquet"
   ]
  },
  {
   "cell_type": "code",
   "execution_count": 12,
   "metadata": {},
   "outputs": [],
   "source": [
    "def save_df_to_parquet(df, df_name, output_path):\n",
    "    print(f\"Attempting to save '{df_name}' to: {output_path}\")\n",
    "    try:\n",
    "        # Check if the DataFrame variable exists and is a DataFrame\n",
    "        if df_name not in globals() or not isinstance(df, pd.DataFrame):\n",
    "             print(f\"ERROR: DataFrame '{df_name}' is not defined or is not a DataFrame.\", file=sys.stderr)\n",
    "             return False\n",
    "        if df.empty:\n",
    "             print(f\"Warning: DataFrame '{df_name}' is empty. Skipping save.\")\n",
    "             return True \n",
    "\n",
    "        df.to_parquet(output_path, index=False)\n",
    "        print(f\"Successfully saved {os.path.basename(output_path)}\")\n",
    "        return True\n",
    "    except Exception as e:\n",
    "        print(f\"ERROR: Failed to save '{os.path.basename(output_path)}': {e}\", file=sys.stderr)\n",
    "        return False"
   ]
  },
  {
   "cell_type": "code",
   "execution_count": 13,
   "metadata": {},
   "outputs": [
    {
     "name": "stdout",
     "output_type": "stream",
     "text": [
      "Attempting to save 'interactions_df' to: ../data/processed/interactions.parquet\n",
      "Successfully saved interactions.parquet\n",
      "----------\n",
      "Attempting to save 'positive_interactions_df' to: ../data/processed/positive_interactions.parquet\n",
      "Successfully saved positive_interactions.parquet\n",
      "----------\n",
      "Attempting to save 'negative_interactions_df' to: ../data/processed/negative_interactions.parquet\n",
      "Successfully saved negative_interactions.parquet\n",
      "------------------------------\n",
      "All defined DataFrames saved successfully (or skipped if empty).\n"
     ]
    }
   ],
   "source": [
    "interactions_output_filename = 'interactions.parquet' \n",
    "positive_interactions_output_filename = 'positive_interactions.parquet' \n",
    "negative_interactions_output_filename = 'negative_interactions.parquet' \n",
    "\n",
    "interactions_output_path = os.path.join(processed_data_dir, interactions_output_filename)\n",
    "positive_interactions_output_path = os.path.join(processed_data_dir, positive_interactions_output_filename)\n",
    "negative_interactions_output_path = os.path.join(processed_data_dir, negative_interactions_output_filename)\n",
    "\n",
    "save_successful = True\n",
    "\n",
    "# Save the full interactions DataFrame (with mapped IDs)\n",
    "if not save_df_to_parquet(interactions_df, 'interactions_df', interactions_output_path):\n",
    "    save_successful = False\n",
    "\n",
    "print(\"-\" * 10)\n",
    "\n",
    "# Save the positive interactions DataFrame\n",
    "if not save_df_to_parquet(positive_interactions_df, 'positive_interactions_df', positive_interactions_output_path):\n",
    "    save_successful = False\n",
    "\n",
    "print(\"-\" * 10)\n",
    "\n",
    "# Save the negative interactions DataFrame\n",
    "if not save_df_to_parquet(negative_interactions_df, 'negative_interactions_df', negative_interactions_output_path):\n",
    "    save_successful = False\n",
    "\n",
    "print(\"-\" * 30)\n",
    "if save_successful:\n",
    "    print(\"All defined DataFrames saved successfully (or skipped if empty).\")\n",
    "else:\n",
    "    print(\"Some DataFrames failed to save. Please check errors above.\")"
   ]
  },
  {
   "cell_type": "markdown",
   "metadata": {},
   "source": [
    "## 6. Load Saved Interactions to Verify"
   ]
  },
  {
   "cell_type": "code",
   "execution_count": 14,
   "metadata": {},
   "outputs": [],
   "source": [
    "def load_and_display(file_path, df_name):\n",
    "    print(f\"\\n--------------------- Loading '{os.path.basename(file_path)}' ---------------------\")\n",
    "    try:\n",
    "        df = pd.read_parquet(file_path)\n",
    "        print(f\"Successfully loaded {len(df)} rows into '{df_name}'.\")\n",
    "        df_counts = df['rating'].value_counts()\n",
    "        df_counts = df_counts.sort_index()\n",
    "        print(df_counts)\n",
    "        print(df.head())\n",
    "        return df\n",
    "    except FileNotFoundError:\n",
    "        print(f\"ERROR: File not found at {file_path}\", file=sys.stderr)\n",
    "        return None\n",
    "    except Exception as e:\n",
    "        print(f\"ERROR: Failed to load {os.path.basename(file_path)}: {e}\", file=sys.stderr)\n",
    "        return None"
   ]
  },
  {
   "cell_type": "code",
   "execution_count": 15,
   "metadata": {},
   "outputs": [
    {
     "name": "stdout",
     "output_type": "stream",
     "text": [
      "\n",
      "--------------------- Loading 'interactions.parquet' ---------------------\n",
      "Successfully loaded 15739967 rows into 'loaded_interactions_df'.\n",
      "rating\n",
      "0     551885\n",
      "1     448016\n",
      "2    1107096\n",
      "3    3117525\n",
      "4    5250205\n",
      "5    5265240\n",
      "Name: count, dtype: int64\n",
      "                            user_id   book_id  rating  user_idx  item_idx\n",
      "0  8842281e1d1347389f2ab93d60773d4d  24375664       5         0         0\n",
      "1  8842281e1d1347389f2ab93d60773d4d  18245960       5         0         1\n",
      "2  8842281e1d1347389f2ab93d60773d4d   6392944       3         0         2\n",
      "3  8842281e1d1347389f2ab93d60773d4d  22078596       4         0         3\n",
      "4  8842281e1d1347389f2ab93d60773d4d   6644782       4         0         4\n",
      "\n",
      "--------------------- Loading 'positive_interactions.parquet' ---------------------\n",
      "Successfully loaded 10515445 rows into 'loaded_positive_interactions_df'.\n",
      "rating\n",
      "4    5250205\n",
      "5    5265240\n",
      "Name: count, dtype: int64\n",
      "                            user_id   book_id  rating  user_idx  item_idx\n",
      "0  8842281e1d1347389f2ab93d60773d4d  24375664       5         0         0\n",
      "1  8842281e1d1347389f2ab93d60773d4d  18245960       5         0         1\n",
      "2  8842281e1d1347389f2ab93d60773d4d  22078596       4         0         3\n",
      "3  8842281e1d1347389f2ab93d60773d4d   6644782       4         0         4\n",
      "4  8842281e1d1347389f2ab93d60773d4d   9460786       4         0         6\n",
      "\n",
      "--------------------- Loading 'negative_interactions.parquet' ---------------------\n",
      "Successfully loaded 2106997 rows into 'loaded_negative_interactions_df'.\n",
      "rating\n",
      "0     551885\n",
      "1     448016\n",
      "2    1107096\n",
      "Name: count, dtype: int64\n",
      "                            user_id   book_id  rating  user_idx  item_idx\n",
      "0  8842281e1d1347389f2ab93d60773d4d   1995421       0         0         5\n",
      "1  8842281e1d1347389f2ab93d60773d4d  27161156       0         0        13\n",
      "2  8842281e1d1347389f2ab93d60773d4d  32283133       0         0        15\n",
      "3  8842281e1d1347389f2ab93d60773d4d      4866       0         0        26\n",
      "4  8842281e1d1347389f2ab93d60773d4d  24189224       0         0        29\n"
     ]
    }
   ],
   "source": [
    "loaded_interactions_df = load_and_display(interactions_output_path, 'loaded_interactions_df')\n",
    "loaded_positive_interactions_df = load_and_display(positive_interactions_output_path, 'loaded_positive_interactions_df')\n",
    "loaded_negative_interactions_df = load_and_display(negative_interactions_output_path, 'loaded_negative_interactions_df')"
   ]
  }
 ],
 "metadata": {
  "kernelspec": {
   "display_name": "Python 3",
   "language": "python",
   "name": "python3"
  },
  "language_info": {
   "codemirror_mode": {
    "name": "ipython",
    "version": 3
   },
   "file_extension": ".py",
   "mimetype": "text/x-python",
   "name": "python",
   "nbconvert_exporter": "python",
   "pygments_lexer": "ipython3",
   "version": "3.13.0"
  }
 },
 "nbformat": 4,
 "nbformat_minor": 2
}
