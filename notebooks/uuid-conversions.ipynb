{
 "cells": [
  {
   "cell_type": "code",
   "execution_count": 1,
   "metadata": {},
   "outputs": [],
   "source": [
    "import pandas as pd\n",
    "import uuid\n",
    "import dask.dataframe as dd\n",
    "\n",
    "pd.set_option('display.max_rows', None)\n",
    "pd.set_option('display.max_columns', None)"
   ]
  },
  {
   "cell_type": "markdown",
   "metadata": {},
   "source": [
    "## Authors"
   ]
  },
  {
   "cell_type": "code",
   "execution_count": null,
   "metadata": {},
   "outputs": [],
   "source": [
    "authors_df = pd.read_parquet(\"../data/authors_df.parquet\")\n",
    "authors_df.head()"
   ]
  },
  {
   "cell_type": "code",
   "execution_count": 12,
   "metadata": {},
   "outputs": [],
   "source": [
    "# Create a dictionary mapping old author_ids to new UUIDs\n",
    "author_id_map = {old_id: str(uuid.uuid4()) for old_id in authors_df['author_id'].unique()}\n",
    "\n",
    "# Create a copy and replace the IDs\n",
    "new_authors_df = authors_df.copy()\n",
    "new_authors_df['author_id'] = new_authors_df['author_id'].map(author_id_map)\n",
    "\n",
    "# Save the mapping for later use\n",
    "author_id_map_df = pd.DataFrame(list(author_id_map.items()), columns=['old_id', 'new_id'])\n",
    "author_id_map_df.to_csv(\"data/author_id_map.csv\", index=False)\n",
    "\n",
    "authors_df = new_authors_df\n"
   ]
  },
  {
   "cell_type": "code",
   "execution_count": null,
   "metadata": {},
   "outputs": [],
   "source": [
    "new_authors_df.to_parquet(\"data/new_authors.parquet\")\n",
    "new_authors_df.head()"
   ]
  },
  {
   "cell_type": "markdown",
   "metadata": {},
   "source": [
    "### Changing author_id in books"
   ]
  },
  {
   "cell_type": "code",
   "execution_count": null,
   "metadata": {},
   "outputs": [],
   "source": [
    "books_df = pd.read_parquet(\"../data/books_df.parquet\")\n",
    "books_df.head()\n",
    "\n"
   ]
  },
  {
   "cell_type": "code",
   "execution_count": 32,
   "metadata": {},
   "outputs": [],
   "source": [
    "# Load the author ID mapping and ensure index is string type\n",
    "author_id_map = pd.read_csv(\"../data/author_id_map.csv\")\n",
    "author_id_map['old_id'] = author_id_map['old_id'].astype(str)  # Convert to string\n",
    "author_id_map = author_id_map.set_index('old_id')['new_id']\n",
    "\n",
    "new_books_df = books_df.copy()\n",
    "\n",
    "# Convert the list of dicts to just a list of author UUIDs\n",
    "new_books_df['authors'] = new_books_df['authors'].apply(\n",
    "    lambda x: [author_id_map[str(author['author_id'])] for author in x]\n",
    ")\n",
    "\n",
    "# Save updated books dataframe\n",
    "new_books_df.to_parquet(\"data/new_books.parquet\")"
   ]
  },
  {
   "cell_type": "code",
   "execution_count": null,
   "metadata": {},
   "outputs": [],
   "source": [
    "new_books_df.head()"
   ]
  }
 ],
 "metadata": {
  "kernelspec": {
   "display_name": "jupyter_env",
   "language": "python",
   "name": "jupyter_env"
  },
  "language_info": {
   "codemirror_mode": {
    "name": "ipython",
    "version": 3
   },
   "file_extension": ".py",
   "mimetype": "text/x-python",
   "name": "python",
   "nbconvert_exporter": "python",
   "pygments_lexer": "ipython3",
   "version": "3.12.6"
  }
 },
 "nbformat": 4,
 "nbformat_minor": 2
}
