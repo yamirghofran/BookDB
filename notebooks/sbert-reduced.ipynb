{
 "cells": [
  {
   "cell_type": "markdown",
   "id": "c59118ed",
   "metadata": {},
   "source": [
    "# Finetuning Sentence Transformers for Generating Book Embeddings"
   ]
  },
  {
   "cell_type": "code",
   "execution_count": null,
   "id": "dfedc2b1",
   "metadata": {},
   "outputs": [],
   "source": [
    "import dask.dataframe as dd\n",
    "import pandas as pd\n",
    "import numpy as np\n",
    "import matplotlib as plt\n",
    "import seaborn as sns\n",
    "import pyarrow.parquet as pq\n",
    "from sentence_transformers import InputExample, SentenceTransformer, losses, evaluation\n",
    "from sentence_transformers.losses import SiameseDistanceMetric\n",
    "from sentence_transformers.evaluation import TripletEvaluator\n",
    "from torch.utils.data import DataLoader\n",
    "import torch\n",
    "import math\n",
    "from sklearn.model_selection import train_test_split\n",
    "import os\n",
    "import sys\n",
    "import warnings\n",
    "import logging\n",
    "import json\n",
    "import random\n",
    "from datasets import load_dataset, DatasetDict\n",
    "\n",
    "pd.set_option('display.max_rows', None)\n",
    "pd.set_option('display.max_columns', None)"
   ]
  },
  {
   "cell_type": "code",
   "execution_count": null,
   "id": "29a470b5",
   "metadata": {},
   "outputs": [],
   "source": [
    "BASE_MODEL_NAME = 'all-MiniLM-L6-v2' \n",
    "DATA_PATH = 'path/to/your/book_data.csv' # Or other format\n",
    "OUTPUT_PATH = 'output/finetuned-book-model'\n",
    "BATCH_SIZE = 512\n",
    "EPOCHS = 4\n",
    "LEARNING_RATE = 2e-5\n",
    "TRIPLET_MARGIN = 0.5 # Margin for TripletLoss\n",
    "K = 10\n",
    "TEST_SET_FRACTION = 0.10\n",
    "VALIDATION_SET_FRACTION = 0.10 # Fraction of data for validation during training\n",
    "RANDOM_SEED = 42"
   ]
  },
  {
   "cell_type": "markdown",
   "id": "018937bd",
   "metadata": {},
   "source": [
    "## 1. Loading & Preparing Datasets"
   ]
  },
  {
   "cell_type": "markdown",
   "id": "6b3918f1",
   "metadata": {},
   "source": [
    "## 2. Evaluating Baseline Model"
   ]
  },
  {
   "cell_type": "markdown",
   "id": "3ef142df",
   "metadata": {},
   "source": [
    "## 3. Finetuning the Model"
   ]
  },
  {
   "cell_type": "markdown",
   "id": "d41ed6c8",
   "metadata": {},
   "source": [
    "## 4. Comparing Finetune Vs Baseline Performance"
   ]
  }
 ],
 "metadata": {
  "kernelspec": {
   "display_name": "jupyter_env",
   "language": "python",
   "name": "jupyter_env"
  },
  "language_info": {
   "name": "python",
   "version": "3.12.6"
  }
 },
 "nbformat": 4,
 "nbformat_minor": 5
}
