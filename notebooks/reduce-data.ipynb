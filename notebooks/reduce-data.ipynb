{
 "cells": [
  {
   "cell_type": "markdown",
   "id": "ed419a70",
   "metadata": {},
   "source": [
    "# Reducing the data\n",
    "There are 238 million interactions and 2.3 million books in this dataset. For our purposes of training and tuning Neural Collaborative Filtering and Transformer models, this size is impossible to manage in terms of memory and compute.\n",
    "\n",
    "Therefore, we reduce the dataset to only include interactions with explicit ratings of 4 and 5, users with 100+ interactions, and books with 500+ interactions."
   ]
  },
  {
   "cell_type": "markdown",
   "id": "ac14ac3c",
   "metadata": {},
   "source": [
    "## 1. Configuration and Setup"
   ]
  },
  {
   "cell_type": "code",
   "execution_count": null,
   "id": "c7349724",
   "metadata": {},
   "outputs": [],
   "source": [
    "import pandas as pd\n",
    "import numpy as np\n",
    "import dask.dataframe as dd\n",
    "import pyarrow.parquet as pq\n",
    "\n",
    "pd.set_option('display.max_rows', None)\n",
    "pd.set_option('display.max_columns', None)"
   ]
  },
  {
   "cell_type": "markdown",
   "id": "ef40cbab",
   "metadata": {},
   "source": [
    "### Load the original datasets"
   ]
  },
  {
   "cell_type": "code",
   "execution_count": null,
   "id": "7683799f",
   "metadata": {},
   "outputs": [],
   "source": [
    "interactions_dedup_df = dd.read_parquet(\"../data/interactions_dedup.parquet\")\n",
    "books_df = dd.read_parquet(\"../data/new_books.parquet\")\n",
    "books_works_df = dd.read_parquet(\"../data/books_works_df.parquet\")\n",
    "user_id_map = pd.read_csv(\"../data/user_id_map.csv\")\n",
    "book_id_map = pd.read_csv(\"../data/book_id_map.csv\")"
   ]
  },
  {
   "cell_type": "markdown",
   "id": "8983fe8e",
   "metadata": {},
   "source": [
    "## 2. Filtering based on interactions"
   ]
  },
  {
   "cell_type": "code",
   "execution_count": 4,
   "id": "25c96cc1",
   "metadata": {},
   "outputs": [
    {
     "name": "stdout",
     "output_type": "stream",
     "text": [
      "Valid user IDs saved to data/reduced_user_ids.csv\n",
      "Valid book IDs saved to data/reduced_book_ids.csv\n"
     ]
    }
   ],
   "source": [
    "# Filter interactions with rating >= 4\n",
    "interactions_filtered_rating_df = interactions_dedup_df[interactions_dedup_df['rating'] >= 4]\n",
    "interactions_filtered_rating_df = interactions_filtered_rating_df\n",
    "\n",
    "# Calculate user interaction counts\n",
    "user_counts = interactions_filtered_rating_df.groupby('user_id').size().compute()\n",
    "\n",
    "# Filter users with 100+ interactions\n",
    "valid_users = user_counts[user_counts >= 100].index\n",
    "\n",
    "# Calculate book interaction counts\n",
    "book_counts = interactions_filtered_rating_df.groupby('book_id').size().compute()\n",
    "# Filter books with 500+ interactions\n",
    "valid_books = book_counts[book_counts >= 500].index\n",
    "\n",
    "# Save valid user IDs to a CSV file\n",
    "pd.Series(valid_users, name='user_id').to_csv(\"../data/reduced_user_ids.csv\", index=False)\n",
    "print(\"Valid user IDs saved to data/reduced_user_ids.csv\")\n",
    "\n",
    "# Save valid book IDs to a CSV file\n",
    "pd.Series(valid_books, name='book_id').to_csv(\"../data/reduced_book_ids.csv\", index=False)\n",
    "print(\"Valid book IDs saved to data/reduced_book_ids.csv\")\n",
    "\n",
    "interactions_filtered_rating_df = interactions_filtered_rating_df.compute()"
   ]
  },
  {
   "cell_type": "markdown",
   "id": "5ada1b42",
   "metadata": {},
   "source": [
    "## 3. Reducing Interactions Dataframe"
   ]
  },
  {
   "cell_type": "code",
   "execution_count": 5,
   "id": "3c264a86",
   "metadata": {},
   "outputs": [],
   "source": [
    "interactions_filtered_df = interactions_filtered_rating_df[\n",
    "    interactions_filtered_rating_df['user_id'].isin(valid_users) &\n",
    "    interactions_filtered_rating_df['book_id'].isin(valid_books)\n",
    "]"
   ]
  },
  {
   "cell_type": "code",
   "execution_count": 6,
   "id": "54a09e32",
   "metadata": {},
   "outputs": [],
   "source": [
    "interactions_filtered_df.to_parquet(\"data/reduced_interactions.parquet\", index=False)"
   ]
  },
  {
   "cell_type": "markdown",
   "id": "e17d3aef",
   "metadata": {},
   "source": [
    "## 4. Reducing Books Dataframe"
   ]
  },
  {
   "cell_type": "code",
   "execution_count": 7,
   "id": "c8658861",
   "metadata": {},
   "outputs": [
    {
     "data": {
      "text/plain": [
       "17663"
      ]
     },
     "execution_count": 7,
     "metadata": {},
     "output_type": "execute_result"
    }
   ],
   "source": [
    "reduced_book_ids = pd.read_csv(\"../data/reduced_book_ids.csv\")\n",
    "# Get the list of book IDs to keep\n",
    "book_ids_to_keep = reduced_book_ids['book_id'].unique()\n",
    "\n",
    "# Filter the Dask DataFrame\n",
    "filtered_books_df = books_df[books_df['book_id'].isin(book_ids_to_keep)]\n",
    "\n",
    "# Optionally, trigger computation and view the head\n",
    "filtered_books_df = filtered_books_df.compute()\n",
    "len(filtered_books_df)"
   ]
  },
  {
   "cell_type": "markdown",
   "id": "fe84f38a",
   "metadata": {},
   "source": [
    "### Filtering the `similar_books` attribute"
   ]
  },
  {
   "cell_type": "code",
   "execution_count": 8,
   "id": "d36e9dce",
   "metadata": {},
   "outputs": [
    {
     "name": "stdout",
     "output_type": "stream",
     "text": [
      "      book_id                                      similar_books\n",
      "3     6066819                        [2285777, 5941079, 3134684]\n",
      "15      89375                     [53817, 254389, 8964, 8139321]\n",
      "479  11731782  [10950666, 11948797, 12711899, 11187203, 12901...\n",
      "583     54270                                          [3831344]\n",
      "807     38568                     [225669, 50789, 46481, 780878]\n"
     ]
    }
   ],
   "source": [
    "# Convert book_ids_to_keep to a set for efficient lookup\n",
    "# Ensure the IDs in the set are integers, matching the type in reduced_book_ids\n",
    "book_ids_to_keep_set = set(book_ids_to_keep.astype(int))\n",
    "\n",
    "# Define a function to filter the similar_books array\n",
    "def filter_array(arr):\n",
    "    # Check if the input is a numpy array and not empty\n",
    "    if isinstance(arr, np.ndarray) and arr.size > 0:\n",
    "        # Convert string IDs in the array to integers for comparison\n",
    "        # Keep only those IDs present in the book_ids_to_keep_set\n",
    "        return np.array([book_id for book_id in arr if int(book_id) in book_ids_to_keep_set], dtype=object)\n",
    "    # Return an empty numpy array if input is not valid or empty\n",
    "    return np.array([], dtype=object)\n",
    "\n",
    "# Apply the filtering function to the 'similar_books' column\n",
    "filtered_books_df['similar_books'] = filtered_books_df['similar_books'].apply(filter_array)\n",
    "\n",
    "# Display the head to verify the changes (optional)\n",
    "print(filtered_books_df[['book_id', 'similar_books']].head())"
   ]
  },
  {
   "cell_type": "code",
   "execution_count": 9,
   "id": "db469c83",
   "metadata": {},
   "outputs": [],
   "source": [
    "filtered_books_df.to_parquet(\"data/reduced_books.parquet\")"
   ]
  },
  {
   "cell_type": "markdown",
   "id": "05ab8246",
   "metadata": {},
   "source": [
    "## 5. Reducing Reviews Dataframe"
   ]
  },
  {
   "cell_type": "code",
   "execution_count": 10,
   "id": "66c21c5f",
   "metadata": {},
   "outputs": [],
   "source": [
    "reviews_df = dd.read_parquet(\"../data/reviews_dedup.parquet\")\n",
    "reduced_user_ids = pd.read_csv(\"../data/reduced_user_ids.csv\")\n",
    "user_ids_to_keep = reduced_user_ids['user_id'].unique()"
   ]
  },
  {
   "cell_type": "code",
   "execution_count": 11,
   "id": "61060e62",
   "metadata": {},
   "outputs": [
    {
     "name": "stdout",
     "output_type": "stream",
     "text": [
      "4602214\n",
      "                             user_id   book_id  \\\n",
      "10  8842281e1d1347389f2ab93d60773d4d     16981   \n",
      "12  8842281e1d1347389f2ab93d60773d4d  28684704   \n",
      "13  8842281e1d1347389f2ab93d60773d4d  27161156   \n",
      "15  8842281e1d1347389f2ab93d60773d4d  32283133   \n",
      "17  8842281e1d1347389f2ab93d60773d4d  28119237   \n",
      "\n",
      "                           review_id  rating  \\\n",
      "10  a5d2c3628987712d0e05c4f90798eb67       3   \n",
      "12  2ede853b14dc4583f96cf5d120af636f       3   \n",
      "13  ced5675e55cd9d38a524743f5c40996e       0   \n",
      "15  8e4d61801907e591018bdc3442a9cf2b       0   \n",
      "17  7a8dc8ab7f3c0084be8150d7e5bd40cb       4   \n",
      "\n",
      "                                          review_text  \\\n",
      "10  Recommended by Don Katz. Avail for free in Dec...   \n",
      "12  A fun, fast paced science fiction thriller. I ...   \n",
      "13  Recommended reading to understand what is goin...   \n",
      "15           http://www.telegraph.co.uk/culture/10...   \n",
      "17  A fascinating book about community and belongi...   \n",
      "\n",
      "                        date_added                    date_updated  \\\n",
      "10  Mon Dec 05 10:46:44 -0800 2016  Wed Mar 22 11:37:04 -0700 2017   \n",
      "12  Tue Nov 15 11:29:22 -0800 2016  Mon Mar 20 23:40:27 -0700 2017   \n",
      "13  Wed Nov 09 17:37:04 -0800 2016  Wed Nov 09 17:38:20 -0800 2016   \n",
      "15  Tue Nov 01 11:09:18 -0700 2016  Tue Nov 01 11:09:44 -0700 2016   \n",
      "17  Thu Sep 22 16:19:12 -0700 2016  Thu Sep 22 16:19:12 -0700 2016   \n",
      "\n",
      "                           read_at                      started_at  n_votes  \\\n",
      "10                                                                        1   \n",
      "12  Sat Mar 18 23:22:42 -0700 2017  Fri Mar 17 23:45:40 -0700 2017       22   \n",
      "13                                                                        5   \n",
      "15                                                                        9   \n",
      "17  Tue Nov 22 00:00:00 -0800 2016                                       30   \n",
      "\n",
      "    n_comments  \n",
      "10           0  \n",
      "12           0  \n",
      "13           1  \n",
      "15           0  \n",
      "17           2  \n"
     ]
    }
   ],
   "source": [
    "# Filter reviews_df\n",
    "filtered_reviews_df = reviews_df[\n",
    "    reviews_df['user_id'].isin(user_ids_to_keep) &\n",
    "    reviews_df['book_id'].isin(book_ids_to_keep)\n",
    "]\n",
    "\n",
    "pd_reviews_df = filtered_reviews_df.compute()\n",
    "pd_reviews_df.to_parquet(\"data/reduced_reviews.parquet\")\n",
    "\n",
    "print(len(pd_reviews_df))\n",
    "print(pd_reviews_df.head())"
   ]
  }
 ],
 "metadata": {
  "kernelspec": {
   "display_name": "jupyter_env",
   "language": "python",
   "name": "jupyter_env"
  },
  "language_info": {
   "codemirror_mode": {
    "name": "ipython",
    "version": 3
   },
   "file_extension": ".py",
   "mimetype": "text/x-python",
   "name": "python",
   "nbconvert_exporter": "python",
   "pygments_lexer": "ipython3",
   "version": "3.12.6"
  }
 },
 "nbformat": 4,
 "nbformat_minor": 5
}
