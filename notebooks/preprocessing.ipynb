{
 "cells": [
  {
   "cell_type": "code",
   "execution_count": 4,
   "metadata": {},
   "outputs": [],
   "source": [
    "import pandas as pd\n",
    "import numpy as np\n",
    "import matplotlib.pyplot as plt\n",
    "import seaborn as sns\n",
    "import ast\n",
    "import os\n",
    "import dask.dataframe as dd\n",
    "import os\n",
    "from dotenv import load_dotenv\n",
    "load_dotenv()\n",
    "\n",
    "CLOUDFLARE_ENDPOINT_URL = os.getenv('CLOUDFLARE_ENDPOINT_URL')\n",
    "CLOUDFLARE_ACCESS_KEY_ID = os.getenv('CLOUDFLARE_ACCESS_KEY_ID')\n",
    "CLOUDFLARE_SECRET_ACCESS_KEY = os.getenv('CLOUDFLARE_SECRET_ACCESS_KEY')\n",
    "\n",
    "pd.set_option('display.max_rows', None)\n",
    "pd.set_option('display.max_columns', None)\n"
   ]
  },
  {
   "cell_type": "code",
   "execution_count": 5,
   "metadata": {},
   "outputs": [],
   "source": [
    "import boto3\n",
    "from botocore.config import Config\n"
   ]
  },
  {
   "cell_type": "markdown",
   "metadata": {},
   "source": [
    "## Load Data"
   ]
  },
  {
   "cell_type": "markdown",
   "metadata": {},
   "source": [
    "## Books"
   ]
  },
  {
   "cell_type": "code",
   "execution_count": null,
   "metadata": {},
   "outputs": [],
   "source": [
    "#books_df = pd.read_json(\"data/goodreads_books.json\", lines=True)\n",
    "#books_df = pd.read_pickle(\"data/books_df.pkl\")\n",
    "#books_df.to_parquet(\"data/books_df.parquet\")\n",
    "#books_df = pd.read_pickle(\"data/books_df.pkl\")\n",
    "\n",
    "books_df = pd.read_parquet(\"../data/books_df.parquet\")\n",
    "\n",
    "print(\"\\n\\nAuthors for first 5 records:\")\n",
    "print(books_df['authors'].head())\n",
    "\n"
   ]
  },
  {
   "cell_type": "markdown",
   "metadata": {},
   "source": [
    "## Interactions CSV"
   ]
  },
  {
   "cell_type": "code",
   "execution_count": null,
   "metadata": {},
   "outputs": [],
   "source": [
    "interactions_df = pd.read_csv(\"data/goodreads_interactions.csv\")\n",
    "#interactions_df.to_pickle(\"data/interactions_df.pkl\")\n",
    "#interactions_df = pd.read_pickle(\"data/interactions_df.pkl\")"
   ]
  },
  {
   "cell_type": "code",
   "execution_count": null,
   "metadata": {},
   "outputs": [],
   "source": [
    "book_id_map_df = pd.read_csv(\"../data/book_id_map.csv\")\n",
    "user_id_map_df = pd.read_csv(\"../data/user_id_map.csv\")\n",
    "\n",
    "# book_id_map_df.head()\n",
    "# user_id_map_df.head()\n"
   ]
  },
  {
   "cell_type": "code",
   "execution_count": null,
   "metadata": {},
   "outputs": [],
   "source": [
    "# # Map user_id_csv to actual user_id\n",
    "interactions_df['user_id'] = interactions_df['user_id'].map(user_id_map_df.set_index('user_id_csv')['user_id'])\n",
    "\n",
    "# # Map book_id to actual book_id\n",
    "interactions_df['book_id'] = interactions_df['book_id'].map(book_id_map_df.set_index('book_id_csv')['book_id'])"
   ]
  },
  {
   "cell_type": "code",
   "execution_count": null,
   "metadata": {},
   "outputs": [],
   "source": [
    "interactions_df.to_parquet(\"data/interactions_df.parquet\")"
   ]
  },
  {
   "cell_type": "code",
   "execution_count": null,
   "metadata": {},
   "outputs": [],
   "source": [
    "interactions_df.head()"
   ]
  },
  {
   "cell_type": "code",
   "execution_count": null,
   "metadata": {},
   "outputs": [],
   "source": [
    "len(interactions_df)"
   ]
  },
  {
   "cell_type": "markdown",
   "metadata": {},
   "source": [
    "## Interactions Dedup JSON"
   ]
  },
  {
   "cell_type": "code",
   "execution_count": null,
   "metadata": {},
   "outputs": [],
   "source": [
    "# Process JSON in chunks and save to parquet, tracking progress\n",
    "import pyarrow.parquet as pq\n",
    "import pyarrow as pa\n",
    "\n",
    "chunk_size = 150000\n",
    "output_path = \"data/interactions_dedup.parquet\"\n",
    "progress_path = \"data/chunk_progress.txt\"\n",
    "\n",
    "# Get starting chunk from progress file if it exists\n",
    "start_chunk = 0\n",
    "if os.path.exists(progress_path):\n",
    "    with open(progress_path) as f:\n",
    "        start_chunk = int(f.read())\n",
    "\n",
    "# Create ParquetWriter for appending\n",
    "writer = None\n",
    "\n",
    "for chunk_count, chunk in enumerate(pd.read_json(\"data/goodreads_interactions_dedup.json\", lines=True, chunksize=chunk_size)):\n",
    "    if chunk_count < start_chunk:\n",
    "        continue\n",
    "        \n",
    "    table = pa.Table.from_pandas(chunk)\n",
    "    \n",
    "    if writer is None:\n",
    "        writer = pq.ParquetWriter(output_path, table.schema)\n",
    "    \n",
    "    writer.write_table(table)\n",
    "    \n",
    "    # Save progress\n",
    "    with open(progress_path, 'w') as f:\n",
    "        f.write(str(chunk_count + 1))\n",
    "\n",
    "# Close the writer when done\n",
    "if writer:\n",
    "    writer.close()"
   ]
  },
  {
   "cell_type": "code",
   "execution_count": 2,
   "metadata": {},
   "outputs": [],
   "source": [
    "# Or read sample of rows\n",
    "df = dd.read_parquet(\"../data/interactions_dedup.parquet\")"
   ]
  },
  {
   "cell_type": "code",
   "execution_count": 3,
   "metadata": {},
   "outputs": [
    {
     "data": {
      "text/plain": [
       "228648342"
      ]
     },
     "execution_count": 3,
     "metadata": {},
     "output_type": "execute_result"
    }
   ],
   "source": [
    "len(df.index.compute())"
   ]
  },
  {
   "cell_type": "code",
   "execution_count": 4,
   "metadata": {},
   "outputs": [
    {
     "data": {
      "text/plain": [
       "112131203"
      ]
     },
     "execution_count": 4,
     "metadata": {},
     "output_type": "execute_result"
    }
   ],
   "source": [
    "df_read = df[df['is_read']==True]\n",
    "len(df_read)"
   ]
  },
  {
   "cell_type": "code",
   "execution_count": 5,
   "metadata": {},
   "outputs": [
    {
     "data": {
      "text/html": [
       "<div>\n",
       "<style scoped>\n",
       "    .dataframe tbody tr th:only-of-type {\n",
       "        vertical-align: middle;\n",
       "    }\n",
       "\n",
       "    .dataframe tbody tr th {\n",
       "        vertical-align: top;\n",
       "    }\n",
       "\n",
       "    .dataframe thead th {\n",
       "        text-align: right;\n",
       "    }\n",
       "</style>\n",
       "<table border=\"1\" class=\"dataframe\">\n",
       "  <thead>\n",
       "    <tr style=\"text-align: right;\">\n",
       "      <th></th>\n",
       "      <th>user_id</th>\n",
       "      <th>book_id</th>\n",
       "      <th>review_id</th>\n",
       "      <th>is_read</th>\n",
       "      <th>rating</th>\n",
       "      <th>review_text_incomplete</th>\n",
       "      <th>date_added</th>\n",
       "      <th>date_updated</th>\n",
       "      <th>read_at</th>\n",
       "      <th>started_at</th>\n",
       "    </tr>\n",
       "  </thead>\n",
       "  <tbody>\n",
       "    <tr>\n",
       "      <th>13</th>\n",
       "      <td>8842281e1d1347389f2ab93d60773d4d</td>\n",
       "      <td>25735618</td>\n",
       "      <td>ea74f2b6645b7d16f3ede2aca10226f0</td>\n",
       "      <td>True</td>\n",
       "      <td>0</td>\n",
       "      <td></td>\n",
       "      <td>Fri Aug 25 13:55:10 -0700 2017</td>\n",
       "      <td>Tue Oct 17 23:53:44 -0700 2017</td>\n",
       "      <td></td>\n",
       "      <td>Tue Oct 17 09:23:10 -0700 2017</td>\n",
       "    </tr>\n",
       "    <tr>\n",
       "      <th>14</th>\n",
       "      <td>8842281e1d1347389f2ab93d60773d4d</td>\n",
       "      <td>24375664</td>\n",
       "      <td>5cd416f3efc3f944fce4ce2db2290d5e</td>\n",
       "      <td>True</td>\n",
       "      <td>5</td>\n",
       "      <td>Mind blowingly cool. Best science fiction I've...</td>\n",
       "      <td>Fri Aug 25 13:55:02 -0700 2017</td>\n",
       "      <td>Mon Oct 09 08:55:59 -0700 2017</td>\n",
       "      <td>Sat Oct 07 00:00:00 -0700 2017</td>\n",
       "      <td>Sat Aug 26 00:00:00 -0700 2017</td>\n",
       "    </tr>\n",
       "    <tr>\n",
       "      <th>21</th>\n",
       "      <td>8842281e1d1347389f2ab93d60773d4d</td>\n",
       "      <td>18245960</td>\n",
       "      <td>dfdbb7b0eb5a7e4c26d59a937e2e5feb</td>\n",
       "      <td>True</td>\n",
       "      <td>5</td>\n",
       "      <td>This is a special book. It started slow for ab...</td>\n",
       "      <td>Sun Jul 30 07:44:10 -0700 2017</td>\n",
       "      <td>Wed Aug 30 00:00:26 -0700 2017</td>\n",
       "      <td>Sat Aug 26 12:05:52 -0700 2017</td>\n",
       "      <td>Tue Aug 15 13:23:18 -0700 2017</td>\n",
       "    </tr>\n",
       "    <tr>\n",
       "      <th>22</th>\n",
       "      <td>8842281e1d1347389f2ab93d60773d4d</td>\n",
       "      <td>6392944</td>\n",
       "      <td>5e212a62bced17b4dbe41150e5bb9037</td>\n",
       "      <td>True</td>\n",
       "      <td>3</td>\n",
       "      <td>I haven't read a fun mystery book in a while a...</td>\n",
       "      <td>Mon Jul 24 02:48:17 -0700 2017</td>\n",
       "      <td>Sun Jul 30 09:28:03 -0700 2017</td>\n",
       "      <td>Tue Jul 25 00:00:00 -0700 2017</td>\n",
       "      <td>Mon Jul 24 00:00:00 -0700 2017</td>\n",
       "    </tr>\n",
       "    <tr>\n",
       "      <th>23</th>\n",
       "      <td>8842281e1d1347389f2ab93d60773d4d</td>\n",
       "      <td>22078596</td>\n",
       "      <td>fdd13cad0695656be99828cd75d6eb73</td>\n",
       "      <td>True</td>\n",
       "      <td>4</td>\n",
       "      <td>Fun, fast paced, and disturbing tale of murder...</td>\n",
       "      <td>Mon Jul 24 02:33:09 -0700 2017</td>\n",
       "      <td>Sun Jul 30 10:23:54 -0700 2017</td>\n",
       "      <td>Sun Jul 30 15:42:05 -0700 2017</td>\n",
       "      <td>Tue Jul 25 00:00:00 -0700 2017</td>\n",
       "    </tr>\n",
       "  </tbody>\n",
       "</table>\n",
       "</div>"
      ],
      "text/plain": [
       "                             user_id   book_id  \\\n",
       "13  8842281e1d1347389f2ab93d60773d4d  25735618   \n",
       "14  8842281e1d1347389f2ab93d60773d4d  24375664   \n",
       "21  8842281e1d1347389f2ab93d60773d4d  18245960   \n",
       "22  8842281e1d1347389f2ab93d60773d4d   6392944   \n",
       "23  8842281e1d1347389f2ab93d60773d4d  22078596   \n",
       "\n",
       "                           review_id  is_read  rating  \\\n",
       "13  ea74f2b6645b7d16f3ede2aca10226f0     True       0   \n",
       "14  5cd416f3efc3f944fce4ce2db2290d5e     True       5   \n",
       "21  dfdbb7b0eb5a7e4c26d59a937e2e5feb     True       5   \n",
       "22  5e212a62bced17b4dbe41150e5bb9037     True       3   \n",
       "23  fdd13cad0695656be99828cd75d6eb73     True       4   \n",
       "\n",
       "                               review_text_incomplete  \\\n",
       "13                                                      \n",
       "14  Mind blowingly cool. Best science fiction I've...   \n",
       "21  This is a special book. It started slow for ab...   \n",
       "22  I haven't read a fun mystery book in a while a...   \n",
       "23  Fun, fast paced, and disturbing tale of murder...   \n",
       "\n",
       "                        date_added                    date_updated  \\\n",
       "13  Fri Aug 25 13:55:10 -0700 2017  Tue Oct 17 23:53:44 -0700 2017   \n",
       "14  Fri Aug 25 13:55:02 -0700 2017  Mon Oct 09 08:55:59 -0700 2017   \n",
       "21  Sun Jul 30 07:44:10 -0700 2017  Wed Aug 30 00:00:26 -0700 2017   \n",
       "22  Mon Jul 24 02:48:17 -0700 2017  Sun Jul 30 09:28:03 -0700 2017   \n",
       "23  Mon Jul 24 02:33:09 -0700 2017  Sun Jul 30 10:23:54 -0700 2017   \n",
       "\n",
       "                           read_at                      started_at  \n",
       "13                                  Tue Oct 17 09:23:10 -0700 2017  \n",
       "14  Sat Oct 07 00:00:00 -0700 2017  Sat Aug 26 00:00:00 -0700 2017  \n",
       "21  Sat Aug 26 12:05:52 -0700 2017  Tue Aug 15 13:23:18 -0700 2017  \n",
       "22  Tue Jul 25 00:00:00 -0700 2017  Mon Jul 24 00:00:00 -0700 2017  \n",
       "23  Sun Jul 30 15:42:05 -0700 2017  Tue Jul 25 00:00:00 -0700 2017  "
      ]
     },
     "execution_count": 5,
     "metadata": {},
     "output_type": "execute_result"
    }
   ],
   "source": [
    "df_read.head()"
   ]
  },
  {
   "cell_type": "markdown",
   "metadata": {},
   "source": [
    "## Reviews"
   ]
  },
  {
   "cell_type": "code",
   "execution_count": null,
   "metadata": {},
   "outputs": [],
   "source": [
    "books_works_df = pd.read_json(\"data/goodreads_book_works.json\", lines=True)\n",
    "books_works_df.to_parquet(\"data/books_works_df.parquet\")\n",
    "books_works_df.head()\n"
   ]
  },
  {
   "cell_type": "markdown",
   "metadata": {},
   "source": [
    "## Authors\n"
   ]
  },
  {
   "cell_type": "code",
   "execution_count": null,
   "metadata": {},
   "outputs": [],
   "source": [
    "# Read the gzipped JSON file\n",
    "authors_df = pd.read_json(\"data/authors.json\", lines=True)\n",
    "authors_df.to_pickle(\"data/authors_df.pkl\")\n",
    "# Display the first few rows\n",
    "authors_df.head()"
   ]
  },
  {
   "cell_type": "code",
   "execution_count": null,
   "metadata": {},
   "outputs": [],
   "source": [
    "#authors_df.shape"
   ]
  }
 ],
 "metadata": {
  "kernelspec": {
   "display_name": "jupyter_env",
   "language": "python",
   "name": "jupyter_env"
  },
  "language_info": {
   "codemirror_mode": {
    "name": "ipython",
    "version": 3
   },
   "file_extension": ".py",
   "mimetype": "text/x-python",
   "name": "python",
   "nbconvert_exporter": "python",
   "pygments_lexer": "ipython3",
   "version": "3.12.6"
  }
 },
 "nbformat": 4,
 "nbformat_minor": 2
}
