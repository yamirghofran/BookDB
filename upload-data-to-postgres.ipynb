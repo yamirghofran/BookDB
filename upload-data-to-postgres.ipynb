{
 "cells": [
  {
   "cell_type": "code",
   "execution_count": 16,
   "metadata": {},
   "outputs": [],
   "source": [
    "from sqlalchemy import create_engine\n",
    "import names\n",
    "import pandas as pd\n",
    "import dask.dataframe as dd\n",
    "import random\n",
    "engine = create_engine('postgresql://yamirghofran0:@localhost:5432/bookdb?sslmode=disable')"
   ]
  },
  {
   "cell_type": "markdown",
   "metadata": {},
   "source": [
    "## Users"
   ]
  },
  {
   "cell_type": "code",
   "execution_count": null,
   "metadata": {},
   "outputs": [],
   "source": [
    "users = pd.read_csv(\"data/user_id_map.csv\")\n",
    "users.head()"
   ]
  },
  {
   "cell_type": "code",
   "execution_count": null,
   "metadata": {},
   "outputs": [],
   "source": [
    "# Generate single names\n",
    "#first_name = names.get_first_name()  # e.g. \"John\"\n",
    "#last_name = names.get_last_name()    # e.g. \"Smith\"\n",
    "#full_name = names.get_full_name()    # e.g. \"John Smith\""
   ]
  },
  {
   "cell_type": "code",
   "execution_count": null,
   "metadata": {},
   "outputs": [],
   "source": [
    "# Generate fake data for each user\n",
    "user_records = []\n",
    "counter = 0\n",
    "for _, user in users.iterrows():\n",
    "    first = names.get_first_name()\n",
    "    last = names.get_last_name()\n",
    "    name = f\"{first} {last}\"\n",
    "    email = f\"{first.lower()}.{last.lower()}{counter:05d}@example.com\"    \n",
    "    user_records.append({\n",
    "        'id': user['user_id'],\n",
    "        'name': name,\n",
    "        'email': email,\n",
    "    })\n",
    "    counter += 1\n",
    "\n",
    "# Create DataFrame and insert to DB\n",
    "users_df = pd.DataFrame(user_records)\n",
    "users_df.to_sql('users', engine, if_exists='append', index=False)\n"
   ]
  },
  {
   "cell_type": "markdown",
   "metadata": {},
   "source": [
    "## Authors"
   ]
  },
  {
   "cell_type": "code",
   "execution_count": 3,
   "metadata": {},
   "outputs": [
    {
     "data": {
      "text/html": [
       "<div>\n",
       "<style scoped>\n",
       "    .dataframe tbody tr th:only-of-type {\n",
       "        vertical-align: middle;\n",
       "    }\n",
       "\n",
       "    .dataframe tbody tr th {\n",
       "        vertical-align: top;\n",
       "    }\n",
       "\n",
       "    .dataframe thead th {\n",
       "        text-align: right;\n",
       "    }\n",
       "</style>\n",
       "<table border=\"1\" class=\"dataframe\">\n",
       "  <thead>\n",
       "    <tr style=\"text-align: right;\">\n",
       "      <th></th>\n",
       "      <th>average_rating</th>\n",
       "      <th>author_id</th>\n",
       "      <th>text_reviews_count</th>\n",
       "      <th>name</th>\n",
       "      <th>ratings_count</th>\n",
       "    </tr>\n",
       "  </thead>\n",
       "  <tbody>\n",
       "    <tr>\n",
       "      <th>0</th>\n",
       "      <td>3.98</td>\n",
       "      <td>f6fe6aac-2718-4a70-8482-5e32d24ce2b1</td>\n",
       "      <td>7</td>\n",
       "      <td>Ronald J. Fields</td>\n",
       "      <td>49</td>\n",
       "    </tr>\n",
       "    <tr>\n",
       "      <th>1</th>\n",
       "      <td>4.08</td>\n",
       "      <td>126cc433-0c42-4242-b721-9427dbfa74eb</td>\n",
       "      <td>28716</td>\n",
       "      <td>Anita Diamant</td>\n",
       "      <td>546796</td>\n",
       "    </tr>\n",
       "    <tr>\n",
       "      <th>2</th>\n",
       "      <td>3.92</td>\n",
       "      <td>550d8a5f-4893-47ec-8b77-ab82175410c4</td>\n",
       "      <td>5075</td>\n",
       "      <td>Barbara Hambly</td>\n",
       "      <td>122118</td>\n",
       "    </tr>\n",
       "    <tr>\n",
       "      <th>3</th>\n",
       "      <td>3.68</td>\n",
       "      <td>fb1de694-168f-4a44-b604-34169f4cbf0e</td>\n",
       "      <td>36262</td>\n",
       "      <td>Jennifer Weiner</td>\n",
       "      <td>888522</td>\n",
       "    </tr>\n",
       "    <tr>\n",
       "      <th>4</th>\n",
       "      <td>3.82</td>\n",
       "      <td>90bba374-d702-4a94-b16c-ebb6c00ffb1e</td>\n",
       "      <td>96</td>\n",
       "      <td>Nigel Pennick</td>\n",
       "      <td>1740</td>\n",
       "    </tr>\n",
       "  </tbody>\n",
       "</table>\n",
       "</div>"
      ],
      "text/plain": [
       "   average_rating                             author_id  text_reviews_count  \\\n",
       "0            3.98  f6fe6aac-2718-4a70-8482-5e32d24ce2b1                   7   \n",
       "1            4.08  126cc433-0c42-4242-b721-9427dbfa74eb               28716   \n",
       "2            3.92  550d8a5f-4893-47ec-8b77-ab82175410c4                5075   \n",
       "3            3.68  fb1de694-168f-4a44-b604-34169f4cbf0e               36262   \n",
       "4            3.82  90bba374-d702-4a94-b16c-ebb6c00ffb1e                  96   \n",
       "\n",
       "               name  ratings_count  \n",
       "0  Ronald J. Fields             49  \n",
       "1     Anita Diamant         546796  \n",
       "2    Barbara Hambly         122118  \n",
       "3   Jennifer Weiner         888522  \n",
       "4     Nigel Pennick           1740  "
      ]
     },
     "execution_count": 3,
     "metadata": {},
     "output_type": "execute_result"
    }
   ],
   "source": [
    "authors_df = pd.read_parquet(\"data/new_authors.parquet\")\n",
    "authors_df.head()"
   ]
  },
  {
   "cell_type": "code",
   "execution_count": 13,
   "metadata": {},
   "outputs": [
    {
     "data": {
      "text/plain": [
       "829529"
      ]
     },
     "execution_count": 13,
     "metadata": {},
     "output_type": "execute_result"
    }
   ],
   "source": [
    "len(authors_df)"
   ]
  },
  {
   "cell_type": "code",
   "execution_count": 12,
   "metadata": {},
   "outputs": [
    {
     "data": {
      "text/plain": [
       "529"
      ]
     },
     "execution_count": 12,
     "metadata": {},
     "output_type": "execute_result"
    }
   ],
   "source": [
    "# Generate fake emails for authors\n",
    "author_records = []\n",
    "counter = 713450\n",
    "for _, author in authors_df.iterrows():\n",
    "    name = author['name']\n",
    "    if name == \"\":\n",
    "        name = \"No Name\"\n",
    "        email = f\"noname{counter:06d}@example.com\"  # Increased to 6 digits\n",
    "    else:\n",
    "        name_parts = name.lower().split()\n",
    "        if len(name_parts) >= 2:\n",
    "            email = f\"{name_parts[0]}.{name_parts[-1]}{counter:06d}@example.com\"\n",
    "        else:\n",
    "            email = f\"{name_parts[0]}{counter:06d}@example.com\"\n",
    "        \n",
    "    author_records.append({\n",
    "        'id': author['author_id'],\n",
    "        'name': name,\n",
    "        'email': email,\n",
    "        'is_author': True\n",
    "    })\n",
    "    counter += 1\n",
    "\n",
    "# Create DataFrame and insert to DB\n",
    "authors_df_with_email = pd.DataFrame(author_records)\n",
    "authors_df_with_email.to_sql('users', engine, if_exists='append', index=False)\n"
   ]
  },
  {
   "cell_type": "code",
   "execution_count": 17,
   "metadata": {},
   "outputs": [
    {
     "data": {
      "text/html": [
       "<div>\n",
       "<style scoped>\n",
       "    .dataframe tbody tr th:only-of-type {\n",
       "        vertical-align: middle;\n",
       "    }\n",
       "\n",
       "    .dataframe tbody tr th {\n",
       "        vertical-align: top;\n",
       "    }\n",
       "\n",
       "    .dataframe thead th {\n",
       "        text-align: right;\n",
       "    }\n",
       "</style>\n",
       "<table border=\"1\" class=\"dataframe\">\n",
       "  <thead>\n",
       "    <tr style=\"text-align: right;\">\n",
       "      <th></th>\n",
       "      <th>user_id</th>\n",
       "      <th>book_id</th>\n",
       "      <th>is_read</th>\n",
       "      <th>rating</th>\n",
       "      <th>is_reviewed</th>\n",
       "    </tr>\n",
       "  </thead>\n",
       "  <tbody>\n",
       "    <tr>\n",
       "      <th>0</th>\n",
       "      <td>8842281e1d1347389f2ab93d60773d4d</td>\n",
       "      <td>12</td>\n",
       "      <td>1</td>\n",
       "      <td>5</td>\n",
       "      <td>0</td>\n",
       "    </tr>\n",
       "    <tr>\n",
       "      <th>1</th>\n",
       "      <td>8842281e1d1347389f2ab93d60773d4d</td>\n",
       "      <td>21</td>\n",
       "      <td>1</td>\n",
       "      <td>5</td>\n",
       "      <td>1</td>\n",
       "    </tr>\n",
       "    <tr>\n",
       "      <th>2</th>\n",
       "      <td>8842281e1d1347389f2ab93d60773d4d</td>\n",
       "      <td>30</td>\n",
       "      <td>1</td>\n",
       "      <td>5</td>\n",
       "      <td>0</td>\n",
       "    </tr>\n",
       "    <tr>\n",
       "      <th>3</th>\n",
       "      <td>8842281e1d1347389f2ab93d60773d4d</td>\n",
       "      <td>45</td>\n",
       "      <td>1</td>\n",
       "      <td>5</td>\n",
       "      <td>0</td>\n",
       "    </tr>\n",
       "    <tr>\n",
       "      <th>4</th>\n",
       "      <td>8842281e1d1347389f2ab93d60773d4d</td>\n",
       "      <td>1</td>\n",
       "      <td>1</td>\n",
       "      <td>5</td>\n",
       "      <td>0</td>\n",
       "    </tr>\n",
       "  </tbody>\n",
       "</table>\n",
       "</div>"
      ],
      "text/plain": [
       "                            user_id  book_id  is_read  rating  is_reviewed\n",
       "0  8842281e1d1347389f2ab93d60773d4d       12        1       5            0\n",
       "1  8842281e1d1347389f2ab93d60773d4d       21        1       5            1\n",
       "2  8842281e1d1347389f2ab93d60773d4d       30        1       5            0\n",
       "3  8842281e1d1347389f2ab93d60773d4d       45        1       5            0\n",
       "4  8842281e1d1347389f2ab93d60773d4d        1        1       5            0"
      ]
     },
     "execution_count": 17,
     "metadata": {},
     "output_type": "execute_result"
    }
   ],
   "source": [
    "interactions_df = dd.read_parquet(\"data/interactions.parquet\")\n",
    "interactions_df.head()"
   ]
  }
 ],
 "metadata": {
  "kernelspec": {
   "display_name": "jupyter_env",
   "language": "python",
   "name": "jupyter_env"
  },
  "language_info": {
   "codemirror_mode": {
    "name": "ipython",
    "version": 3
   },
   "file_extension": ".py",
   "mimetype": "text/x-python",
   "name": "python",
   "nbconvert_exporter": "python",
   "pygments_lexer": "ipython3",
   "version": "3.12.6"
  }
 },
 "nbformat": 4,
 "nbformat_minor": 2
}
