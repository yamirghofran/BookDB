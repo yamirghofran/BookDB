{
 "cells": [
  {
   "cell_type": "markdown",
   "metadata": {},
   "source": [
    "# Goodreads Books Dataset: Exploratory Data Analysis"
   ]
  },
  {
   "cell_type": "code",
   "execution_count": 1,
   "metadata": {},
   "outputs": [],
   "source": [
    "import dask.dataframe as dd\n",
    "import pandas as pd\n",
    "import numpy as np\n",
    "import matplotlib as plt\n",
    "import seaborn as sns\n",
    "import pyarrow.parquet as pq\n",
    "\n",
    "pd.set_option('display.max_rows', None)\n",
    "pd.set_option('display.max_columns', None)"
   ]
  },
  {
   "cell_type": "markdown",
   "metadata": {},
   "source": [
    "## Books"
   ]
  },
  {
   "cell_type": "code",
   "execution_count": null,
   "metadata": {},
   "outputs": [],
   "source": [
    "# Load the dataset into a dataframe\n",
    "books_df = dd.read_parquet(\"data/new_books.parquet\")\n",
    "books_df.head()"
   ]
  },
  {
   "cell_type": "code",
   "execution_count": null,
   "metadata": {},
   "outputs": [],
   "source": [
    "books_df.dtypes"
   ]
  },
  {
   "cell_type": "code",
   "execution_count": null,
   "metadata": {},
   "outputs": [],
   "source": [
    "len(books_df)"
   ]
  },
  {
   "cell_type": "markdown",
   "metadata": {},
   "source": [
    "## Book Works"
   ]
  },
  {
   "cell_type": "code",
   "execution_count": 2,
   "metadata": {},
   "outputs": [
    {
     "data": {
      "text/html": [
       "<div>\n",
       "<style scoped>\n",
       "    .dataframe tbody tr th:only-of-type {\n",
       "        vertical-align: middle;\n",
       "    }\n",
       "\n",
       "    .dataframe tbody tr th {\n",
       "        vertical-align: top;\n",
       "    }\n",
       "\n",
       "    .dataframe thead th {\n",
       "        text-align: right;\n",
       "    }\n",
       "</style>\n",
       "<table border=\"1\" class=\"dataframe\">\n",
       "  <thead>\n",
       "    <tr style=\"text-align: right;\">\n",
       "      <th></th>\n",
       "      <th>books_count</th>\n",
       "      <th>reviews_count</th>\n",
       "      <th>original_publication_month</th>\n",
       "      <th>default_description_language_code</th>\n",
       "      <th>text_reviews_count</th>\n",
       "      <th>best_book_id</th>\n",
       "      <th>original_publication_year</th>\n",
       "      <th>original_title</th>\n",
       "      <th>rating_dist</th>\n",
       "      <th>default_chaptering_book_id</th>\n",
       "      <th>original_publication_day</th>\n",
       "      <th>original_language_id</th>\n",
       "      <th>ratings_count</th>\n",
       "      <th>media_type</th>\n",
       "      <th>ratings_sum</th>\n",
       "      <th>work_id</th>\n",
       "    </tr>\n",
       "  </thead>\n",
       "  <tbody>\n",
       "    <tr>\n",
       "      <th>0</th>\n",
       "      <td>1</td>\n",
       "      <td>6</td>\n",
       "      <td>8</td>\n",
       "      <td></td>\n",
       "      <td>1</td>\n",
       "      <td>5333265</td>\n",
       "      <td>1984</td>\n",
       "      <td>W. C. Fields: A Life on Film</td>\n",
       "      <td>5:1|4:1|3:1|2:0|1:0|total:3</td>\n",
       "      <td></td>\n",
       "      <td></td>\n",
       "      <td></td>\n",
       "      <td>3</td>\n",
       "      <td>book</td>\n",
       "      <td>12</td>\n",
       "      <td>5400751</td>\n",
       "    </tr>\n",
       "    <tr>\n",
       "      <th>1</th>\n",
       "      <td>22</td>\n",
       "      <td>10162</td>\n",
       "      <td></td>\n",
       "      <td></td>\n",
       "      <td>741</td>\n",
       "      <td>25717</td>\n",
       "      <td>2001</td>\n",
       "      <td>Good Harbor</td>\n",
       "      <td>5:517|4:1787|3:2763|2:966|1:196|total:6229</td>\n",
       "      <td></td>\n",
       "      <td></td>\n",
       "      <td></td>\n",
       "      <td>6229</td>\n",
       "      <td>book</td>\n",
       "      <td>20150</td>\n",
       "      <td>1323437</td>\n",
       "    </tr>\n",
       "    <tr>\n",
       "      <th>2</th>\n",
       "      <td>2</td>\n",
       "      <td>268</td>\n",
       "      <td></td>\n",
       "      <td></td>\n",
       "      <td>7</td>\n",
       "      <td>7327624</td>\n",
       "      <td>1987</td>\n",
       "      <td></td>\n",
       "      <td>5:49|4:58|3:26|2:5|1:3|total:141</td>\n",
       "      <td></td>\n",
       "      <td></td>\n",
       "      <td></td>\n",
       "      <td>141</td>\n",
       "      <td>book</td>\n",
       "      <td>568</td>\n",
       "      <td>8948723</td>\n",
       "    </tr>\n",
       "    <tr>\n",
       "      <th>3</th>\n",
       "      <td>38</td>\n",
       "      <td>89252</td>\n",
       "      <td>7</td>\n",
       "      <td></td>\n",
       "      <td>3504</td>\n",
       "      <td>6066819</td>\n",
       "      <td>2009</td>\n",
       "      <td>Best Friends Forever</td>\n",
       "      <td>5:9152|4:16855|3:19507|2:6210|1:1549|total:53273</td>\n",
       "      <td></td>\n",
       "      <td>14</td>\n",
       "      <td></td>\n",
       "      <td>53273</td>\n",
       "      <td>book</td>\n",
       "      <td>185670</td>\n",
       "      <td>6243154</td>\n",
       "    </tr>\n",
       "    <tr>\n",
       "      <th>4</th>\n",
       "      <td>2</td>\n",
       "      <td>49</td>\n",
       "      <td></td>\n",
       "      <td></td>\n",
       "      <td>5</td>\n",
       "      <td>287140</td>\n",
       "      <td>1990</td>\n",
       "      <td>Runic Astrology: Starcraft and Timekeeping in ...</td>\n",
       "      <td>5:6|4:1|3:3|2:3|1:2|total:15</td>\n",
       "      <td></td>\n",
       "      <td></td>\n",
       "      <td></td>\n",
       "      <td>15</td>\n",
       "      <td>book</td>\n",
       "      <td>51</td>\n",
       "      <td>278577</td>\n",
       "    </tr>\n",
       "  </tbody>\n",
       "</table>\n",
       "</div>"
      ],
      "text/plain": [
       "   books_count  reviews_count original_publication_month  \\\n",
       "0            1              6                          8   \n",
       "1           22          10162                              \n",
       "2            2            268                              \n",
       "3           38          89252                          7   \n",
       "4            2             49                              \n",
       "\n",
       "  default_description_language_code  text_reviews_count  best_book_id  \\\n",
       "0                                                     1       5333265   \n",
       "1                                                   741         25717   \n",
       "2                                                     7       7327624   \n",
       "3                                                  3504       6066819   \n",
       "4                                                     5        287140   \n",
       "\n",
       "  original_publication_year  \\\n",
       "0                      1984   \n",
       "1                      2001   \n",
       "2                      1987   \n",
       "3                      2009   \n",
       "4                      1990   \n",
       "\n",
       "                                      original_title  \\\n",
       "0                       W. C. Fields: A Life on Film   \n",
       "1                                        Good Harbor   \n",
       "2                                                      \n",
       "3                               Best Friends Forever   \n",
       "4  Runic Astrology: Starcraft and Timekeeping in ...   \n",
       "\n",
       "                                        rating_dist  \\\n",
       "0                       5:1|4:1|3:1|2:0|1:0|total:3   \n",
       "1        5:517|4:1787|3:2763|2:966|1:196|total:6229   \n",
       "2                  5:49|4:58|3:26|2:5|1:3|total:141   \n",
       "3  5:9152|4:16855|3:19507|2:6210|1:1549|total:53273   \n",
       "4                      5:6|4:1|3:3|2:3|1:2|total:15   \n",
       "\n",
       "  default_chaptering_book_id original_publication_day original_language_id  \\\n",
       "0                                                                            \n",
       "1                                                                            \n",
       "2                                                                            \n",
       "3                                                  14                        \n",
       "4                                                                            \n",
       "\n",
       "   ratings_count media_type  ratings_sum  work_id  \n",
       "0              3       book           12  5400751  \n",
       "1           6229       book        20150  1323437  \n",
       "2            141       book          568  8948723  \n",
       "3          53273       book       185670  6243154  \n",
       "4             15       book           51   278577  "
      ]
     },
     "execution_count": 2,
     "metadata": {},
     "output_type": "execute_result"
    }
   ],
   "source": [
    "books_works_df = dd.read_parquet(\"data/books_works_df.parquet\")\n",
    "books_works_df.head()"
   ]
  },
  {
   "cell_type": "code",
   "execution_count": 3,
   "metadata": {},
   "outputs": [
    {
     "data": {
      "text/plain": [
       "books_count                                    int64\n",
       "reviews_count                                  int64\n",
       "original_publication_month           string[pyarrow]\n",
       "default_description_language_code    string[pyarrow]\n",
       "text_reviews_count                             int64\n",
       "best_book_id                                   int64\n",
       "original_publication_year            string[pyarrow]\n",
       "original_title                       string[pyarrow]\n",
       "rating_dist                          string[pyarrow]\n",
       "default_chaptering_book_id           string[pyarrow]\n",
       "original_publication_day             string[pyarrow]\n",
       "original_language_id                 string[pyarrow]\n",
       "ratings_count                                  int64\n",
       "media_type                           string[pyarrow]\n",
       "ratings_sum                                    int64\n",
       "work_id                                        int64\n",
       "dtype: object"
      ]
     },
     "execution_count": 3,
     "metadata": {},
     "output_type": "execute_result"
    }
   ],
   "source": [
    "books_works_df.dtypes"
   ]
  },
  {
   "cell_type": "code",
   "execution_count": null,
   "metadata": {},
   "outputs": [],
   "source": [
    "len(books_works_df)"
   ]
  },
  {
   "cell_type": "markdown",
   "metadata": {},
   "source": [
    "## Reducing Books Dataset based on Books Works"
   ]
  },
  {
   "cell_type": "markdown",
   "metadata": {},
   "source": [
    "The books_works dataset has a best_book_id for each work. There are potentially many different books in the books dataset for the same work (different editions, language, etc).\n",
    "\n",
    "We can use the only keep the best_book_id for each work in the books dataset."
   ]
  },
  {
   "cell_type": "code",
   "execution_count": null,
   "metadata": {},
   "outputs": [],
   "source": [
    "# Get a mapping of work_id to best_book_id\n",
    "work_to_best_book = books_works_df[['work_id', 'best_book_id']].compute()\n",
    "work_to_best_book = dict(zip(work_to_best_book['work_id'], work_to_best_book['best_book_id']))\n",
    "\n",
    "# Filter books_df to only keep rows where book_id matches best_book_id for that work\n",
    "books_df_best = books_df[books_df['book_id'].isin(work_to_best_book.values())]\n",
    "\n",
    "print(f\"Original books dataset size: {len(books_df):,}\")\n",
    "print(f\"Filtered books dataset size: {len(books_df_best):,}\")\n"
   ]
  },
  {
   "cell_type": "markdown",
   "metadata": {},
   "source": [
    "Then, we save this new dataset to `books_dedup.parquet`"
   ]
  },
  {
   "cell_type": "code",
   "execution_count": 19,
   "metadata": {},
   "outputs": [],
   "source": [
    "original_schema = pq.read_schema(\"data/new_books.parquet\")\n",
    "books_df_best.to_parquet(\n",
    "    \"data/books_dedup.parquet\",\n",
    "    schema=original_schema,\n",
    "    engine='pyarrow',\n",
    "    write_metadata_file=False,\n",
    "    write_index=False\n",
    ")"
   ]
  },
  {
   "cell_type": "code",
   "execution_count": 21,
   "metadata": {},
   "outputs": [],
   "source": [
    "df1 = dd.read_parquet(\"data/books_dedup.parquet\")\n",
    "df1.compute().to_parquet(\n",
    "    \"data/books_dedup_single.parquet\",\n",
    "    engine='pyarrow',\n",
    "    index=False\n",
    ")"
   ]
  }
 ],
 "metadata": {
  "kernelspec": {
   "display_name": "jupyter_env",
   "language": "python",
   "name": "jupyter_env"
  },
  "language_info": {
   "codemirror_mode": {
    "name": "ipython",
    "version": 3
   },
   "file_extension": ".py",
   "mimetype": "text/x-python",
   "name": "python",
   "nbconvert_exporter": "python",
   "pygments_lexer": "ipython3",
   "version": "3.12.6"
  }
 },
 "nbformat": 4,
 "nbformat_minor": 2
}
