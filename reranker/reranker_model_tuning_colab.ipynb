{
  "cells": [
    {
      "cell_type": "markdown",
      "metadata": {
        "id": "5l30hzedztqW"
      },
      "source": [
        "# Cross-Encoder Fine-Tuning & Evaluation Notebook\n",
        "\n",
        "This notebook outlines the end-to-end process for fine-tuning a Sentence-Transformers `CrossEncoder`."
      ]
    },
    {
      "cell_type": "code",
      "source": [
        "!pip install sentence-transformers -q\n",
        "!pip install pandas pyarrow -q\n",
        "!pip uninstall -y huggingface_hub # Explicitly uninstall\n",
        "!pip install huggingface_hub -q   # Install latest version\n",
        "\n",
        "# Uninstall and reinstall was to fix dependency issue. Cell runs fine as is."
      ],
      "metadata": {
        "id": "oc7SPZyr0Npt",
        "colab": {
          "base_uri": "https://localhost:8080/"
        },
        "outputId": "05318555-5b31-4e31-e873-da5a7ce27dea"
      },
      "execution_count": 25,
      "outputs": [
        {
          "output_type": "stream",
          "name": "stdout",
          "text": [
            "Found existing installation: huggingface-hub 0.31.4\n",
            "Uninstalling huggingface-hub-0.31.4:\n",
            "  Successfully uninstalled huggingface-hub-0.31.4\n"
          ]
        }
      ]
    },
    {
      "cell_type": "code",
      "source": [
        "from google.colab import drive\n",
        "drive.mount('/content/drive')"
      ],
      "metadata": {
        "colab": {
          "base_uri": "https://localhost:8080/"
        },
        "id": "o5yTxAqe0yLM",
        "outputId": "6c86c423-a431-4380-db31-e4d3454233df"
      },
      "execution_count": 26,
      "outputs": [
        {
          "output_type": "stream",
          "name": "stdout",
          "text": [
            "Drive already mounted at /content/drive; to attempt to forcibly remount, call drive.mount(\"/content/drive\", force_remount=True).\n"
          ]
        }
      ]
    },
    {
      "cell_type": "markdown",
      "metadata": {
        "id": "1ZZB4rbEztqX"
      },
      "source": [
        "## 1. Install & Import Dependencies"
      ]
    },
    {
      "cell_type": "code",
      "execution_count": 27,
      "metadata": {
        "id": "Mh2OktksztqY"
      },
      "outputs": [],
      "source": [
        "import os\n",
        "import random\n",
        "import pandas as pd\n",
        "from sentence_transformers import CrossEncoder, InputExample\n",
        "from torch.utils.data import DataLoader\n",
        "from sklearn.model_selection import train_test_split\n",
        "from sklearn.metrics import ndcg_score, roc_auc_score, average_precision_score"
      ]
    },
    {
      "cell_type": "code",
      "execution_count": null,
      "metadata": {
        "id": "i7_PWkylztqZ"
      },
      "outputs": [],
      "source": [
        "import os\n",
        "import boto3\n",
        "from botocore.config import Config\n",
        "\n",
        "def download_from_r2(object_name, local_path, bucket_name=\"bookdbio\"):\n",
        "    # ensure parent dir exists\n",
        "    parent_dir = os.path.dirname(local_path)\n",
        "    if parent_dir and not os.path.isdir(parent_dir):\n",
        "        os.makedirs(parent_dir, exist_ok=True)\n",
        "\n",
        "    s3 = boto3.client('s3',\n",
        "        endpoint_url = f\"temp\",\n",
        "        aws_access_key_id = 'temp',\n",
        "        aws_secret_access_key = 'temp',\n",
        "        config = Config(signature_version='s3v4')\n",
        "   )\n",
        "\n",
        "    try:\n",
        "        s3.download_file(bucket_name, object_name, local_path)\n",
        "        print(f\"Successfully downloaded {object_name} to {local_path}\")\n",
        "    except Exception as e:\n",
        "        print(f\"Download failed for {object_name}: {e}\")"
      ]
    },
    {
      "cell_type": "code",
      "execution_count": null,
      "metadata": {
        "id": "A99_0kYcztqa",
        "outputId": "e84a0a59-50bd-46a0-fc05-bc5a0dc1b133"
      },
      "outputs": [
        {
          "name": "stdout",
          "output_type": "stream",
          "text": [
            "Successfully downloaded data/training_pairs.parquet.zip to data/training_pairs.parquet.zip\n"
          ]
        }
      ],
      "source": [
        "download_from_r2(\"temp\", \"temp\")"
      ]
    },
    {
      "cell_type": "markdown",
      "metadata": {
        "id": "T0lJVDD1ztqd"
      },
      "source": [
        "## 2. Configuration"
      ]
    },
    {
      "cell_type": "markdown",
      "source": [
        "Alter the paths to where the training data is stored and where you want to store the model."
      ],
      "metadata": {
        "id": "L0U0ypfhdEqH"
      }
    },
    {
      "cell_type": "code",
      "execution_count": 29,
      "metadata": {
        "id": "hJIr_gtvztqd"
      },
      "outputs": [],
      "source": [
        "# Paths\n",
        "data_path = '/content/drive/MyDrive/ML_Reranker/data/processed_training_pairs_parts_0_to_12.parquet'\n",
        "output_model_dir = '/content/drive/MyDrive/ML_Reranker/models/reranker_finetuned_model'"
      ]
    },
    {
      "cell_type": "markdown",
      "source": [
        "Check to make sure the model output directory exists."
      ],
      "metadata": {
        "id": "OqhLD5ODdWxs"
      }
    },
    {
      "cell_type": "code",
      "source": [
        "output_model_dir = '/content/drive/MyDrive/Colab_Book_Reranker/models/reranker_finetuned_model'\n",
        "\n",
        "# Check if the directory exists, and create it if it doesn't\n",
        "if not os.path.exists(output_model_dir):\n",
        "    os.makedirs(output_model_dir)\n",
        "    print(f\"Directory created: {output_model_dir}\")\n",
        "else:\n",
        "    print(f\"Directory already exists: {output_model_dir}\")"
      ],
      "metadata": {
        "colab": {
          "base_uri": "https://localhost:8080/"
        },
        "id": "63IUw7d74s8L",
        "outputId": "02ad14f1-da43-4f2f-a5fc-38754f9f5028"
      },
      "execution_count": 30,
      "outputs": [
        {
          "output_type": "stream",
          "name": "stdout",
          "text": [
            "Directory already exists: /content/drive/MyDrive/Colab_Book_Reranker/models/reranker_finetuned_model\n"
          ]
        }
      ]
    },
    {
      "cell_type": "markdown",
      "source": [
        "Setting random seed and model hyperparameters."
      ],
      "metadata": {
        "id": "ixZz-5JBdbfM"
      }
    },
    {
      "cell_type": "code",
      "execution_count": 31,
      "metadata": {
        "id": "wjaAz2-pztqe"
      },
      "outputs": [],
      "source": [
        "random_seed = 42\n",
        "# Reproducibility\n",
        "random.seed(random_seed)"
      ]
    },
    {
      "cell_type": "code",
      "source": [
        "epochs = 3\n",
        "batch_size = 48\n",
        "learning_rate = 2e-5"
      ],
      "metadata": {
        "id": "AQQV9QC049Ue"
      },
      "execution_count": 32,
      "outputs": []
    },
    {
      "cell_type": "markdown",
      "metadata": {
        "id": "4Be1L52Hztqe"
      },
      "source": [
        "## 3. Load & Split Data"
      ]
    },
    {
      "cell_type": "code",
      "execution_count": 33,
      "metadata": {
        "colab": {
          "base_uri": "https://localhost:8080/"
        },
        "id": "DLGQ0Qykztqe",
        "outputId": "5873a4d7-e2f5-49f9-d846-c4d4212d2adf"
      },
      "outputs": [
        {
          "output_type": "stream",
          "name": "stdout",
          "text": [
            "Train pairs: 222360, Val pairs: 27792, Test pairs: 27804\n"
          ]
        }
      ],
      "source": [
        "from sklearn.model_selection import train_test_split\n",
        "import pandas as pd\n",
        "\n",
        "# 1) Load all pairs and drop book_id\n",
        "df = pd.read_parquet(data_path)\n",
        "df = df.drop('book_id', axis=1)\n",
        "\n",
        "# 2) Get unique users\n",
        "users = df['user_id'].unique()\n",
        "\n",
        "# 3) First split: 80% train, 20% temp (val+test)\n",
        "train_users, temp_users = train_test_split(\n",
        "    users,\n",
        "    test_size=0.2,\n",
        "    random_state=random_seed\n",
        ")\n",
        "\n",
        "# 4) Second split: half of temp → val (10%), half → test (10%)\n",
        "val_users, test_users = train_test_split(\n",
        "    temp_users,\n",
        "    test_size=0.5,\n",
        "    random_state=random_seed\n",
        ")\n",
        "\n",
        "# 5) Build DataFrames\n",
        "train_df = df[df['user_id'].isin(train_users)].reset_index(drop=True)\n",
        "val_df   = df[df['user_id'].isin(val_users)].reset_index(drop=True)\n",
        "test_df  = df[df['user_id'].isin(test_users)].reset_index(drop=True)\n",
        "\n",
        "print(f\"Train pairs: {len(train_df)}, Val pairs: {len(val_df)}, Test pairs: {len(test_df)}\")"
      ]
    },
    {
      "cell_type": "code",
      "execution_count": 34,
      "metadata": {
        "colab": {
          "base_uri": "https://localhost:8080/",
          "height": 206
        },
        "id": "iGmr-soQztqe",
        "outputId": "2d320201-5bac-40d7-c7dc-037add7b359b"
      },
      "outputs": [
        {
          "output_type": "execute_result",
          "data": {
            "text/plain": [
              "                            user_id  \\\n",
              "0  001af7947e217e17694c5a9c097afffb   \n",
              "1  001af7947e217e17694c5a9c097afffb   \n",
              "2  001af7947e217e17694c5a9c097afffb   \n",
              "3  001af7947e217e17694c5a9c097afffb   \n",
              "4  001af7947e217e17694c5a9c097afffb   \n",
              "\n",
              "                                            user_ctx  \\\n",
              "0  Favorite books: Tao Te Ching by Lao Tzu and Gi...   \n",
              "1  Favorite books: Tao Te Ching by Lao Tzu and Gi...   \n",
              "2  Favorite books: Tao Te Ching by Lao Tzu and Gi...   \n",
              "3  Favorite books: Tao Te Ching by Lao Tzu and Gi...   \n",
              "4  Favorite books: Tao Te Ching by Lao Tzu and Gi...   \n",
              "\n",
              "                                           book_text  label  \n",
              "0  Title: Down and Out in Paris and London | Genr...      1  \n",
              "1  Title: The Virgin Suicides | Genres: coming-of...      0  \n",
              "2  Title: Seducing Cinderella (Fighting for Love,...      0  \n",
              "3  Title: Highlander Untamed (MacLeods of Skye Tr...      0  \n",
              "4  Title: A Woman in Berlin: Eight Weeks in the C...      1  "
            ],
            "text/html": [
              "\n",
              "  <div id=\"df-997d7939-0425-4dee-831c-0ad394dd9d3b\" class=\"colab-df-container\">\n",
              "    <div>\n",
              "<style scoped>\n",
              "    .dataframe tbody tr th:only-of-type {\n",
              "        vertical-align: middle;\n",
              "    }\n",
              "\n",
              "    .dataframe tbody tr th {\n",
              "        vertical-align: top;\n",
              "    }\n",
              "\n",
              "    .dataframe thead th {\n",
              "        text-align: right;\n",
              "    }\n",
              "</style>\n",
              "<table border=\"1\" class=\"dataframe\">\n",
              "  <thead>\n",
              "    <tr style=\"text-align: right;\">\n",
              "      <th></th>\n",
              "      <th>user_id</th>\n",
              "      <th>user_ctx</th>\n",
              "      <th>book_text</th>\n",
              "      <th>label</th>\n",
              "    </tr>\n",
              "  </thead>\n",
              "  <tbody>\n",
              "    <tr>\n",
              "      <th>0</th>\n",
              "      <td>001af7947e217e17694c5a9c097afffb</td>\n",
              "      <td>Favorite books: Tao Te Ching by Lao Tzu and Gi...</td>\n",
              "      <td>Title: Down and Out in Paris and London | Genr...</td>\n",
              "      <td>1</td>\n",
              "    </tr>\n",
              "    <tr>\n",
              "      <th>1</th>\n",
              "      <td>001af7947e217e17694c5a9c097afffb</td>\n",
              "      <td>Favorite books: Tao Te Ching by Lao Tzu and Gi...</td>\n",
              "      <td>Title: The Virgin Suicides | Genres: coming-of...</td>\n",
              "      <td>0</td>\n",
              "    </tr>\n",
              "    <tr>\n",
              "      <th>2</th>\n",
              "      <td>001af7947e217e17694c5a9c097afffb</td>\n",
              "      <td>Favorite books: Tao Te Ching by Lao Tzu and Gi...</td>\n",
              "      <td>Title: Seducing Cinderella (Fighting for Love,...</td>\n",
              "      <td>0</td>\n",
              "    </tr>\n",
              "    <tr>\n",
              "      <th>3</th>\n",
              "      <td>001af7947e217e17694c5a9c097afffb</td>\n",
              "      <td>Favorite books: Tao Te Ching by Lao Tzu and Gi...</td>\n",
              "      <td>Title: Highlander Untamed (MacLeods of Skye Tr...</td>\n",
              "      <td>0</td>\n",
              "    </tr>\n",
              "    <tr>\n",
              "      <th>4</th>\n",
              "      <td>001af7947e217e17694c5a9c097afffb</td>\n",
              "      <td>Favorite books: Tao Te Ching by Lao Tzu and Gi...</td>\n",
              "      <td>Title: A Woman in Berlin: Eight Weeks in the C...</td>\n",
              "      <td>1</td>\n",
              "    </tr>\n",
              "  </tbody>\n",
              "</table>\n",
              "</div>\n",
              "    <div class=\"colab-df-buttons\">\n",
              "\n",
              "  <div class=\"colab-df-container\">\n",
              "    <button class=\"colab-df-convert\" onclick=\"convertToInteractive('df-997d7939-0425-4dee-831c-0ad394dd9d3b')\"\n",
              "            title=\"Convert this dataframe to an interactive table.\"\n",
              "            style=\"display:none;\">\n",
              "\n",
              "  <svg xmlns=\"http://www.w3.org/2000/svg\" height=\"24px\" viewBox=\"0 -960 960 960\">\n",
              "    <path d=\"M120-120v-720h720v720H120Zm60-500h600v-160H180v160Zm220 220h160v-160H400v160Zm0 220h160v-160H400v160ZM180-400h160v-160H180v160Zm440 0h160v-160H620v160ZM180-180h160v-160H180v160Zm440 0h160v-160H620v160Z\"/>\n",
              "  </svg>\n",
              "    </button>\n",
              "\n",
              "  <style>\n",
              "    .colab-df-container {\n",
              "      display:flex;\n",
              "      gap: 12px;\n",
              "    }\n",
              "\n",
              "    .colab-df-convert {\n",
              "      background-color: #E8F0FE;\n",
              "      border: none;\n",
              "      border-radius: 50%;\n",
              "      cursor: pointer;\n",
              "      display: none;\n",
              "      fill: #1967D2;\n",
              "      height: 32px;\n",
              "      padding: 0 0 0 0;\n",
              "      width: 32px;\n",
              "    }\n",
              "\n",
              "    .colab-df-convert:hover {\n",
              "      background-color: #E2EBFA;\n",
              "      box-shadow: 0px 1px 2px rgba(60, 64, 67, 0.3), 0px 1px 3px 1px rgba(60, 64, 67, 0.15);\n",
              "      fill: #174EA6;\n",
              "    }\n",
              "\n",
              "    .colab-df-buttons div {\n",
              "      margin-bottom: 4px;\n",
              "    }\n",
              "\n",
              "    [theme=dark] .colab-df-convert {\n",
              "      background-color: #3B4455;\n",
              "      fill: #D2E3FC;\n",
              "    }\n",
              "\n",
              "    [theme=dark] .colab-df-convert:hover {\n",
              "      background-color: #434B5C;\n",
              "      box-shadow: 0px 1px 3px 1px rgba(0, 0, 0, 0.15);\n",
              "      filter: drop-shadow(0px 1px 2px rgba(0, 0, 0, 0.3));\n",
              "      fill: #FFFFFF;\n",
              "    }\n",
              "  </style>\n",
              "\n",
              "    <script>\n",
              "      const buttonEl =\n",
              "        document.querySelector('#df-997d7939-0425-4dee-831c-0ad394dd9d3b button.colab-df-convert');\n",
              "      buttonEl.style.display =\n",
              "        google.colab.kernel.accessAllowed ? 'block' : 'none';\n",
              "\n",
              "      async function convertToInteractive(key) {\n",
              "        const element = document.querySelector('#df-997d7939-0425-4dee-831c-0ad394dd9d3b');\n",
              "        const dataTable =\n",
              "          await google.colab.kernel.invokeFunction('convertToInteractive',\n",
              "                                                    [key], {});\n",
              "        if (!dataTable) return;\n",
              "\n",
              "        const docLinkHtml = 'Like what you see? Visit the ' +\n",
              "          '<a target=\"_blank\" href=https://colab.research.google.com/notebooks/data_table.ipynb>data table notebook</a>'\n",
              "          + ' to learn more about interactive tables.';\n",
              "        element.innerHTML = '';\n",
              "        dataTable['output_type'] = 'display_data';\n",
              "        await google.colab.output.renderOutput(dataTable, element);\n",
              "        const docLink = document.createElement('div');\n",
              "        docLink.innerHTML = docLinkHtml;\n",
              "        element.appendChild(docLink);\n",
              "      }\n",
              "    </script>\n",
              "  </div>\n",
              "\n",
              "\n",
              "    <div id=\"df-cc25a933-b4d0-4dbb-b3e1-18a5551fb9d1\">\n",
              "      <button class=\"colab-df-quickchart\" onclick=\"quickchart('df-cc25a933-b4d0-4dbb-b3e1-18a5551fb9d1')\"\n",
              "                title=\"Suggest charts\"\n",
              "                style=\"display:none;\">\n",
              "\n",
              "<svg xmlns=\"http://www.w3.org/2000/svg\" height=\"24px\"viewBox=\"0 0 24 24\"\n",
              "     width=\"24px\">\n",
              "    <g>\n",
              "        <path d=\"M19 3H5c-1.1 0-2 .9-2 2v14c0 1.1.9 2 2 2h14c1.1 0 2-.9 2-2V5c0-1.1-.9-2-2-2zM9 17H7v-7h2v7zm4 0h-2V7h2v10zm4 0h-2v-4h2v4z\"/>\n",
              "    </g>\n",
              "</svg>\n",
              "      </button>\n",
              "\n",
              "<style>\n",
              "  .colab-df-quickchart {\n",
              "      --bg-color: #E8F0FE;\n",
              "      --fill-color: #1967D2;\n",
              "      --hover-bg-color: #E2EBFA;\n",
              "      --hover-fill-color: #174EA6;\n",
              "      --disabled-fill-color: #AAA;\n",
              "      --disabled-bg-color: #DDD;\n",
              "  }\n",
              "\n",
              "  [theme=dark] .colab-df-quickchart {\n",
              "      --bg-color: #3B4455;\n",
              "      --fill-color: #D2E3FC;\n",
              "      --hover-bg-color: #434B5C;\n",
              "      --hover-fill-color: #FFFFFF;\n",
              "      --disabled-bg-color: #3B4455;\n",
              "      --disabled-fill-color: #666;\n",
              "  }\n",
              "\n",
              "  .colab-df-quickchart {\n",
              "    background-color: var(--bg-color);\n",
              "    border: none;\n",
              "    border-radius: 50%;\n",
              "    cursor: pointer;\n",
              "    display: none;\n",
              "    fill: var(--fill-color);\n",
              "    height: 32px;\n",
              "    padding: 0;\n",
              "    width: 32px;\n",
              "  }\n",
              "\n",
              "  .colab-df-quickchart:hover {\n",
              "    background-color: var(--hover-bg-color);\n",
              "    box-shadow: 0 1px 2px rgba(60, 64, 67, 0.3), 0 1px 3px 1px rgba(60, 64, 67, 0.15);\n",
              "    fill: var(--button-hover-fill-color);\n",
              "  }\n",
              "\n",
              "  .colab-df-quickchart-complete:disabled,\n",
              "  .colab-df-quickchart-complete:disabled:hover {\n",
              "    background-color: var(--disabled-bg-color);\n",
              "    fill: var(--disabled-fill-color);\n",
              "    box-shadow: none;\n",
              "  }\n",
              "\n",
              "  .colab-df-spinner {\n",
              "    border: 2px solid var(--fill-color);\n",
              "    border-color: transparent;\n",
              "    border-bottom-color: var(--fill-color);\n",
              "    animation:\n",
              "      spin 1s steps(1) infinite;\n",
              "  }\n",
              "\n",
              "  @keyframes spin {\n",
              "    0% {\n",
              "      border-color: transparent;\n",
              "      border-bottom-color: var(--fill-color);\n",
              "      border-left-color: var(--fill-color);\n",
              "    }\n",
              "    20% {\n",
              "      border-color: transparent;\n",
              "      border-left-color: var(--fill-color);\n",
              "      border-top-color: var(--fill-color);\n",
              "    }\n",
              "    30% {\n",
              "      border-color: transparent;\n",
              "      border-left-color: var(--fill-color);\n",
              "      border-top-color: var(--fill-color);\n",
              "      border-right-color: var(--fill-color);\n",
              "    }\n",
              "    40% {\n",
              "      border-color: transparent;\n",
              "      border-right-color: var(--fill-color);\n",
              "      border-top-color: var(--fill-color);\n",
              "    }\n",
              "    60% {\n",
              "      border-color: transparent;\n",
              "      border-right-color: var(--fill-color);\n",
              "    }\n",
              "    80% {\n",
              "      border-color: transparent;\n",
              "      border-right-color: var(--fill-color);\n",
              "      border-bottom-color: var(--fill-color);\n",
              "    }\n",
              "    90% {\n",
              "      border-color: transparent;\n",
              "      border-bottom-color: var(--fill-color);\n",
              "    }\n",
              "  }\n",
              "</style>\n",
              "\n",
              "      <script>\n",
              "        async function quickchart(key) {\n",
              "          const quickchartButtonEl =\n",
              "            document.querySelector('#' + key + ' button');\n",
              "          quickchartButtonEl.disabled = true;  // To prevent multiple clicks.\n",
              "          quickchartButtonEl.classList.add('colab-df-spinner');\n",
              "          try {\n",
              "            const charts = await google.colab.kernel.invokeFunction(\n",
              "                'suggestCharts', [key], {});\n",
              "          } catch (error) {\n",
              "            console.error('Error during call to suggestCharts:', error);\n",
              "          }\n",
              "          quickchartButtonEl.classList.remove('colab-df-spinner');\n",
              "          quickchartButtonEl.classList.add('colab-df-quickchart-complete');\n",
              "        }\n",
              "        (() => {\n",
              "          let quickchartButtonEl =\n",
              "            document.querySelector('#df-cc25a933-b4d0-4dbb-b3e1-18a5551fb9d1 button');\n",
              "          quickchartButtonEl.style.display =\n",
              "            google.colab.kernel.accessAllowed ? 'block' : 'none';\n",
              "        })();\n",
              "      </script>\n",
              "    </div>\n",
              "\n",
              "    </div>\n",
              "  </div>\n"
            ],
            "application/vnd.google.colaboratory.intrinsic+json": {
              "type": "dataframe",
              "variable_name": "train_df"
            }
          },
          "metadata": {},
          "execution_count": 34
        }
      ],
      "source": [
        "train_df.head()"
      ]
    },
    {
      "cell_type": "markdown",
      "metadata": {
        "id": "UHiivgniztqe"
      },
      "source": [
        "## 4. Prepare InputExamples & DataLoaders"
      ]
    },
    {
      "cell_type": "code",
      "execution_count": 35,
      "metadata": {
        "id": "C3jdaQenztqe"
      },
      "outputs": [],
      "source": [
        "# Convert to InputExample\n",
        "train_examples = [\n",
        "    InputExample(texts=[row.user_ctx, row.book_text], label=float(row.label))\n",
        "    for row in train_df.itertuples()\n",
        "]\n",
        "\n",
        "val_examples = [\n",
        "    InputExample(texts=[row.user_ctx, row.book_text], label=float(row.label))\n",
        "    for row in val_df.itertuples()\n",
        "]\n",
        "\n",
        "test_examples = [\n",
        "    InputExample(texts=[row.user_ctx, row.book_text], label=float(row.label))\n",
        "    for row in test_df.itertuples()\n",
        "]\n",
        "\n",
        "# DataLoaders\n",
        "train_dataloader = DataLoader(train_examples, shuffle=True, batch_size=batch_size)\n",
        "val_dataloader   = DataLoader(val_examples, shuffle=False, batch_size=batch_size)\n",
        "test_dataloader  = DataLoader(test_examples, shuffle=False, batch_size=batch_size)\n"
      ]
    },
    {
      "cell_type": "markdown",
      "metadata": {
        "id": "N_rcl_kXztqe"
      },
      "source": [
        "## 5. Baseline Pre Fine Tuning"
      ]
    },
    {
      "cell_type": "code",
      "execution_count": 44,
      "metadata": {
        "id": "KrzfPLx5ztqe",
        "outputId": "94cb0833-6ba7-4f0d-c0f9-72005804a813",
        "colab": {
          "base_uri": "https://localhost:8080/",
          "height": 442,
          "referenced_widgets": [
            "b42add579a9e4bac80319ec70dcd68f9",
            "1b8040bbf28d4ff2b0369a232fcd24d6",
            "347dc7d9248a42cbacdb7cd704105c7d",
            "efedacd956254317824e5d1df24df38c",
            "146332b2f0a54c0a933f118247e4f98f",
            "29128e889ed648efab0dbbeb64121e16",
            "3fadb1a33b6342c899730d73724eba67",
            "9a91abc3e8c74834ae63cb27327bdf72",
            "9f5acc641a914a1db4540318e2d2bc3b",
            "650646240a6a4084982de6c623f5b4d1",
            "44e8cf543ba94c87a62f4e88603d6baf"
          ]
        }
      },
      "outputs": [
        {
          "output_type": "stream",
          "name": "stdout",
          "text": [
            "\n",
            "--- Starting Baseline Model: Pre-trained CrossEncoder ---\n",
            "Using test_df with shape: (27804, 4) for pre-trained baseline evaluation.\n",
            "Successfully loaded pre-trained model: cross-encoder/ms-marco-MiniLM-L-6-v2\n",
            "Making predictions with the pre-trained model...\n"
          ]
        },
        {
          "output_type": "display_data",
          "data": {
            "text/plain": [
              "Batches:   0%|          | 0/869 [00:00<?, ?it/s]"
            ],
            "application/vnd.jupyter.widget-view+json": {
              "version_major": 2,
              "version_minor": 0,
              "model_id": "b42add579a9e4bac80319ec70dcd68f9"
            }
          },
          "metadata": {}
        },
        {
          "output_type": "stream",
          "name": "stdout",
          "text": [
            "\n",
            "--- Pre-trained CrossEncoder Baseline Results ---\n",
            "Global ROC AUC: 0.6067\n",
            "Global Average Precision (across all items): 0.4237\n",
            "Mean Average Precision (MAP): 0.6011\n",
            "Mean Per-User NDCG@3: 0.4928\n",
            "Mean Per-User NDCG@5: 0.5826\n",
            "Mean Per-User NDCG@10: 0.7014\n",
            "--- Baseline Model: Pre-trained CrossEncoder Finished ---\n",
            "\n",
            "--- Saved Metrics for Baseline Model (for later comparison) ---\n",
            "baseline_global_roc_auc: 0.6067280549310783\n",
            "baseline_global_ap: 0.4236801542737625\n",
            "baseline_map: 0.6011088130207681\n",
            "baseline_ndcg_3: 0.49283395081225845\n",
            "baseline_ndcg_5: 0.582558468226084\n",
            "baseline_ndcg_10: 0.7014092689801137\n"
          ]
        }
      ],
      "source": [
        "# --- Baseline Model: Pre-trained CrossEncoder (No Fine-Tuning) ---\n",
        "from sentence_transformers import CrossEncoder\n",
        "from sklearn.metrics import roc_auc_score, average_precision_score, ndcg_score\n",
        "import pandas as pd\n",
        "import numpy as np\n",
        "\n",
        "print(\"\\n--- Starting Baseline Model: Pre-trained CrossEncoder ---\")\n",
        "\n",
        "# Initialize metric variables for baseline\n",
        "baseline_global_roc_auc = None\n",
        "baseline_global_ap = None\n",
        "baseline_map = None\n",
        "baseline_ndcg_3 = None\n",
        "baseline_ndcg_5 = None\n",
        "baseline_ndcg_10 = None\n",
        "\n",
        "# --- Configuration ---\n",
        "PRETRAINED_MODEL_NAME = 'cross-encoder/ms-marco-MiniLM-L-6-v2'\n",
        "MAX_LENGTH_PRETRAINED = 384\n",
        "\n",
        "if 'test_df' not in locals() or not isinstance(test_df, pd.DataFrame) or test_df.empty:\n",
        "    print(\"Error: `test_df` is not defined, not a DataFrame, or is empty.\")\n",
        "    print(\"Please ensure `test_df` is created and populated from your data splitting cells before running this baseline.\")\n",
        "else:\n",
        "    print(f\"Using test_df with shape: {test_df.shape} for pre-trained baseline evaluation.\")\n",
        "    baseline_model_instance = None # Renamed to avoid conflict if 'baseline_model' is used elsewhere\n",
        "    try:\n",
        "        baseline_model_instance = CrossEncoder(\n",
        "            PRETRAINED_MODEL_NAME,\n",
        "            max_length=MAX_LENGTH_PRETRAINED\n",
        "        )\n",
        "        print(f\"Successfully loaded pre-trained model: {PRETRAINED_MODEL_NAME}\")\n",
        "    except Exception as e:\n",
        "        print(f\"Error loading pre-trained model {PRETRAINED_MODEL_NAME}: {e}\")\n",
        "\n",
        "    if baseline_model_instance:\n",
        "        if 'user_ctx' not in test_df.columns or 'book_text' not in test_df.columns:\n",
        "            print(\"Error: `test_df` is missing 'user_ctx' or 'book_text' columns.\")\n",
        "        else:\n",
        "            test_pairs_for_baseline = [[row.user_ctx, row.book_text] for row in test_df.itertuples()]\n",
        "\n",
        "            if not test_pairs_for_baseline:\n",
        "                print(\"Error: `test_pairs_for_baseline` list is empty. Cannot make predictions.\")\n",
        "            else:\n",
        "                print(\"Making predictions with the pre-trained model...\")\n",
        "                baseline_scores_pred = []\n",
        "                try:\n",
        "                    baseline_scores_pred = baseline_model_instance.predict(test_pairs_for_baseline, show_progress_bar=True)\n",
        "\n",
        "                    if 'label' not in test_df.columns:\n",
        "                        print(\"Error: `test_df` is missing 'label' column for evaluation.\")\n",
        "                    else:\n",
        "                        test_true_labels = test_df['label'].values\n",
        "\n",
        "                        if len(baseline_scores_pred) == len(test_true_labels):\n",
        "                            print(f\"\\n--- Pre-trained CrossEncoder Baseline Results ---\")\n",
        "\n",
        "                            baseline_global_roc_auc = roc_auc_score(test_true_labels, baseline_scores_pred)\n",
        "                            baseline_global_ap = average_precision_score(test_true_labels, baseline_scores_pred)\n",
        "                            print(f\"Global ROC AUC: {baseline_global_roc_auc:.4f}\")\n",
        "                            print(f\"Global Average Precision (across all items): {baseline_global_ap:.4f}\")\n",
        "\n",
        "                            user_ndcg_scores_at_3_bl = [] # Suffix _bl for baseline\n",
        "                            user_ndcg_scores_at_5_bl = []\n",
        "                            user_ndcg_scores_at_10_bl = []\n",
        "                            user_ap_scores_bl = []\n",
        "\n",
        "                            if 'user_id' in test_df.columns:\n",
        "                                evaluation_df_baseline = pd.DataFrame({\n",
        "                                    'user_id': test_df['user_id'],\n",
        "                                    'label': test_true_labels,\n",
        "                                    'score': baseline_scores_pred\n",
        "                                })\n",
        "\n",
        "                                for user_id_val in evaluation_df_baseline['user_id'].unique():\n",
        "                                    user_data = evaluation_df_baseline[evaluation_df_baseline['user_id'] == user_id_val]\n",
        "\n",
        "                                    if not user_data.empty and user_data['label'].sum() > 0:\n",
        "                                        y_true_user_list = user_data['label'].values.tolist()\n",
        "                                        y_score_user_list = user_data['score'].values.tolist()\n",
        "\n",
        "                                        user_ap = average_precision_score(y_true_user_list, y_score_user_list)\n",
        "                                        user_ap_scores_bl.append(user_ap)\n",
        "\n",
        "                                        y_true_user_ndcg = [y_true_user_list]\n",
        "                                        y_score_user_ndcg = [y_score_user_list]\n",
        "\n",
        "                                        k3 = min(3, len(user_data))\n",
        "                                        if k3 > 0:\n",
        "                                            user_ndcg_3_val = ndcg_score(y_true_user_ndcg, y_score_user_ndcg, k=k3) # temp var\n",
        "                                            user_ndcg_scores_at_3_bl.append(user_ndcg_3_val)\n",
        "\n",
        "                                        k5 = min(5, len(user_data))\n",
        "                                        if k5 > 0:\n",
        "                                            user_ndcg_5_val = ndcg_score(y_true_user_ndcg, y_score_user_ndcg, k=k5) # temp var\n",
        "                                            user_ndcg_scores_at_5_bl.append(user_ndcg_5_val)\n",
        "\n",
        "                                        k10 = min(10, len(user_data))\n",
        "                                        if k10 > 0:\n",
        "                                             user_ndcg_10_val = ndcg_score(y_true_user_ndcg, y_score_user_ndcg, k=k10) # temp var\n",
        "                                             user_ndcg_scores_at_10_bl.append(user_ndcg_10_val)\n",
        "\n",
        "                                if user_ap_scores_bl:\n",
        "                                    baseline_map = np.mean(user_ap_scores_bl)\n",
        "                                    print(f\"Mean Average Precision (MAP): {baseline_map:.4f}\")\n",
        "                                else:\n",
        "                                    print(\"MAP could not be calculated (no valid user AP scores).\")\n",
        "\n",
        "                                if user_ndcg_scores_at_3_bl:\n",
        "                                    baseline_ndcg_3 = np.mean(user_ndcg_scores_at_3_bl)\n",
        "                                    print(f\"Mean Per-User NDCG@3: {baseline_ndcg_3:.4f}\")\n",
        "                                else:\n",
        "                                    print(\"Mean Per-User NDCG@3 could not be calculated.\")\n",
        "\n",
        "                                if user_ndcg_scores_at_5_bl:\n",
        "                                    baseline_ndcg_5 = np.mean(user_ndcg_scores_at_5_bl)\n",
        "                                    print(f\"Mean Per-User NDCG@5: {baseline_ndcg_5:.4f}\")\n",
        "                                else:\n",
        "                                    print(\"Mean Per-User NDCG@5 could not be calculated.\")\n",
        "\n",
        "                                if user_ndcg_scores_at_10_bl:\n",
        "                                    baseline_ndcg_10 = np.mean(user_ndcg_scores_at_10_bl)\n",
        "                                    print(f\"Mean Per-User NDCG@10: {baseline_ndcg_10:.4f}\")\n",
        "                                else:\n",
        "                                    print(\"Mean Per-User NDCG@10 could not be calculated.\")\n",
        "                            else:\n",
        "                                print(\"Error: 'user_id' column not found in test_df. Cannot calculate per-user metrics.\")\n",
        "                        else:\n",
        "                            print(f\"Error: Mismatch in length between predicted scores ({len(baseline_scores_pred)}) and true labels ({len(test_true_labels)}). Evaluation skipped.\")\n",
        "                except Exception as e:\n",
        "                    print(f\"Error during prediction or evaluation with pre-trained model: {e}\")\n",
        "\n",
        "print(\"--- Baseline Model: Pre-trained CrossEncoder Finished ---\")\n",
        "\n",
        "# Verification print for baseline metrics\n",
        "print(\"\\n--- Saved Metrics for Baseline Model (for later comparison) ---\")\n",
        "print(f\"baseline_global_roc_auc: {baseline_global_roc_auc}\")\n",
        "print(f\"baseline_global_ap: {baseline_global_ap}\")\n",
        "print(f\"baseline_map: {baseline_map}\")\n",
        "print(f\"baseline_ndcg_3: {baseline_ndcg_3}\")\n",
        "print(f\"baseline_ndcg_5: {baseline_ndcg_5}\")\n",
        "print(f\"baseline_ndcg_10: {baseline_ndcg_10}\")"
      ]
    },
    {
      "cell_type": "markdown",
      "metadata": {
        "id": "OYVtQvRXztqf"
      },
      "source": [
        "## 5. Define Validation Evaluator"
      ]
    },
    {
      "cell_type": "code",
      "source": [
        "from sentence_transformers.cross_encoder.evaluation import CrossEncoderRerankingEvaluator"
      ],
      "metadata": {
        "id": "AgO8YCn8HLNf"
      },
      "execution_count": 36,
      "outputs": []
    },
    {
      "cell_type": "code",
      "source": [
        "validation_samples = []\n",
        "for user_id_val in val_df['user_id'].unique():\n",
        "    user_data = val_df[val_df['user_id'] == user_id_val]\n",
        "\n",
        "    if not user_data.empty:\n",
        "        query_text = user_data['user_ctx'].iloc[0]\n",
        "\n",
        "        positive_passages = list(user_data[user_data['label'] == 1]['book_text'])\n",
        "        negative_passages = list(user_data[user_data['label'] == 0]['book_text'])\n",
        "\n",
        "        # CrossEncoderRerankingEvaluator needs at least one positive passage for a query to be valid.\n",
        "        if positive_passages and negative_passages:\n",
        "          validation_samples.append({\n",
        "              'query': query_text,\n",
        "              'positive': positive_passages,\n",
        "              'negative': negative_passages\n",
        "               # Optional: 'query_id': str(user_id_val) # useful for debugging\n",
        "              })\n",
        "        elif positive_passages: # Case where there are only positives (less ideal for reranking eval but possible)\n",
        "          validation_samples.append({\n",
        "            'query': query_text,\n",
        "            'positive': positive_passages,\n",
        "            'negative': [] # Provide empty list of negatives\n",
        "            })\n",
        "        else:\n",
        "            print(f\"Warning: User {user_id_val} in val_df had no data, skipping for validation_samples.\")\n",
        "\n",
        "    if not validation_samples:\n",
        "        print(\"Error: No valid validation_samples could be created for CrossEncoderRerankingEvaluator.\")\n",
        "        # Handle this case - perhaps set evaluator to None\n",
        "        reranking_evaluator = None\n",
        "else:\n",
        "        print(f\"Created {len(validation_samples)} validation samples for CrossEncoderRerankingEvaluator.\")"
      ],
      "metadata": {
        "colab": {
          "base_uri": "https://localhost:8080/"
        },
        "id": "xILxqMuKHBdO",
        "outputId": "96ec4165-d670-440c-f19c-82abf8f329c2"
      },
      "execution_count": 37,
      "outputs": [
        {
          "output_type": "stream",
          "name": "stdout",
          "text": [
            "Created 2316 validation samples for CrossEncoderRerankingEvaluator.\n"
          ]
        }
      ]
    },
    {
      "cell_type": "code",
      "source": [
        "if validation_samples: # Only proceed if samples were created\n",
        "  reranking_evaluator = CrossEncoderRerankingEvaluator(\n",
        "  samples=validation_samples,\n",
        "  name='val_rerank',\n",
        "  at_k=10,\n",
        "  batch_size=batch_size,\n",
        "  show_progress_bar=True,\n",
        "  write_csv=True\n",
        "  )\n",
        "\n",
        "else: # If no validation_samples\n",
        "  reranking_evaluator = None\n"
      ],
      "metadata": {
        "id": "fERsUUHaHztn"
      },
      "execution_count": 49,
      "outputs": []
    },
    {
      "cell_type": "markdown",
      "metadata": {
        "id": "TxeujCp0ztqf"
      },
      "source": [
        "## 5. Instantiate & Fine-Tune CrossEncoder\n",
        "\n",
        "cross-encoder/ms-marco-MiniLM-L-6-v2 is a 6-layer MiniLM distilled into a cross-encoder architecture and pretrained on the MS MARCO passage ranking task. It takes a paired input (e.g. user context + book text) and produces a single relevance score via full token-level attention.\n",
        "\n",
        "Justification\n",
        "\t•\tRanking-Tuned Pretraining\n",
        "Its MS MARCO heritage means it already knows how to judge fine-grained relevance patterns—crucial for matching nuanced book descriptions to user tastes.\n",
        "\t•\tSpeed-Quality Sweet Spot\n",
        "At ~60 MB and with inference under 15 ms per candidate, it delivers ~90–95 % of full BERT-base accuracy, keeping end-to-end latency low.\n",
        "\t•\tEfficient Fine-Tuning\n",
        "Requires only 2–3 epochs over ~150 K (user,book) pairs to adapt deeply to book-domain language, making rapid iteration feasible.\n",
        "\t•\tCompact & Deployable\n",
        "Its small footprint simplifies packaging, loading, and scaling in production environments with moderate memory and compute budgets."
      ]
    },
    {
      "cell_type": "code",
      "execution_count": 39,
      "metadata": {
        "id": "AhOGiIdnztqf",
        "outputId": "eeb60c9f-e07f-42ae-a02d-752960635dd3",
        "colab": {
          "base_uri": "https://localhost:8080/"
        }
      },
      "outputs": [
        {
          "output_type": "stream",
          "name": "stdout",
          "text": [
            "Number of training steps per epoch: 4633\n",
            "Calculated warmup steps (10% of one epoch): 463\n"
          ]
        }
      ],
      "source": [
        "# 1. Calculate the number of training steps per epoch\n",
        "num_train_steps_per_epoch = len(train_dataloader)\n",
        "print(f\"Number of training steps per epoch: {num_train_steps_per_epoch}\")\n",
        "\n",
        "# 2. Calculate warmup steps\n",
        "warmup_ratio = 0.10  # 10% for warmup\n",
        "actual_warmup_steps = int(num_train_steps_per_epoch * warmup_ratio)\n",
        "print(f\"Calculated warmup steps (10% of one epoch): {actual_warmup_steps}\")\n",
        "\n",
        "# Ensure warmup_steps is not zero if num_train_steps_per_epoch is very small\n",
        "if actual_warmup_steps == 0 and num_train_steps_per_epoch > 0:\n",
        "    actual_warmup_steps = 1 # Ensure at least 1 step if training is happening\n",
        "    print(f\"Adjusted warmup steps to 1 as calculated value was 0.\")\n",
        "\n",
        "\n"
      ]
    },
    {
      "cell_type": "code",
      "execution_count": 40,
      "metadata": {
        "id": "eZQuGUP6ztqg",
        "colab": {
          "base_uri": "https://localhost:8080/",
          "height": 279
        },
        "outputId": "457fd12d-77df-48d9-a053-067878ec1eb5"
      },
      "outputs": [
        {
          "output_type": "stream",
          "name": "stderr",
          "text": [
            "/usr/local/lib/python3.11/dist-packages/datasets/table.py:1395: FutureWarning: promote has been superseded by promote_options='default'.\n",
            "  block_group = [InMemoryTable(cls._concat_blocks(list(block_group), axis=axis))]\n",
            "/usr/local/lib/python3.11/dist-packages/datasets/table.py:1421: FutureWarning: promote has been superseded by promote_options='default'.\n",
            "  table = cls._concat_blocks(blocks, axis=0)\n",
            "Token indices sequence length is longer than the specified maximum sequence length for this model (408 > 384). Running this sequence through the model will result in indexing errors\n"
          ]
        },
        {
          "output_type": "display_data",
          "data": {
            "text/plain": [
              "<IPython.core.display.HTML object>"
            ],
            "text/html": [
              "\n",
              "    <div>\n",
              "      \n",
              "      <progress value='13899' max='13899' style='width:300px; height:20px; vertical-align: middle;'></progress>\n",
              "      [13899/13899 32:33, Epoch 3/3]\n",
              "    </div>\n",
              "    <table border=\"1\" class=\"dataframe\">\n",
              "  <thead>\n",
              " <tr style=\"text-align: left;\">\n",
              "      <th>Step</th>\n",
              "      <th>Training Loss</th>\n",
              "      <th>Validation Loss</th>\n",
              "      <th>Val Rerank Map</th>\n",
              "      <th>Val Rerank Mrr@10</th>\n",
              "      <th>Val Rerank Ndcg@10</th>\n",
              "    </tr>\n",
              "  </thead>\n",
              "  <tbody>\n",
              "    <tr>\n",
              "      <td>4633</td>\n",
              "      <td>0.405000</td>\n",
              "      <td>No log</td>\n",
              "      <td>0.797673</td>\n",
              "      <td>0.929848</td>\n",
              "      <td>0.873533</td>\n",
              "    </tr>\n",
              "    <tr>\n",
              "      <td>9266</td>\n",
              "      <td>0.352900</td>\n",
              "      <td>No log</td>\n",
              "      <td>0.809594</td>\n",
              "      <td>0.936482</td>\n",
              "      <td>0.882994</td>\n",
              "    </tr>\n",
              "    <tr>\n",
              "      <td>13899</td>\n",
              "      <td>0.326700</td>\n",
              "      <td>No log</td>\n",
              "      <td>0.807672</td>\n",
              "      <td>0.933336</td>\n",
              "      <td>0.881431</td>\n",
              "    </tr>\n",
              "  </tbody>\n",
              "</table><p>"
            ]
          },
          "metadata": {}
        },
        {
          "output_type": "stream",
          "name": "stderr",
          "text": []
        }
      ],
      "source": [
        "from sentence_transformers import CrossEncoder\n",
        "model = CrossEncoder(\n",
        "    'cross-encoder/ms-marco-MiniLM-L-6-v2',\n",
        "    num_labels=1,\n",
        "    max_length=384,\n",
        ")\n",
        "\n",
        "model.fit(\n",
        "    train_dataloader=train_dataloader,\n",
        "    evaluator=reranking_evaluator,\n",
        "    epochs=epochs, # e.g., 3\n",
        "    optimizer_params={'lr': learning_rate}, # e.g., 2e-5\n",
        "    scheduler='WarmupLinear',\n",
        "    warmup_steps=actual_warmup_steps,\n",
        "    evaluation_steps=num_train_steps_per_epoch,\n",
        "    output_path=output_model_dir,\n",
        "    save_best_model=True,\n",
        "    use_amp=True,\n",
        "    show_progress_bar=True,\n",
        ")"
      ]
    },
    {
      "cell_type": "code",
      "execution_count": 55,
      "metadata": {
        "id": "oGoTjwzCztqg",
        "colab": {
          "base_uri": "https://localhost:8080/",
          "height": 858
        },
        "outputId": "c22eca4d-a4ab-4894-9494-dc0d7929ea35"
      },
      "outputs": [
        {
          "output_type": "stream",
          "name": "stdout",
          "text": [
            "\n",
            "--- Plotting CrossEncoder Validation Performance ---\n",
            "Successfully loaded evaluation results from: /content/drive/MyDrive/Colab_Book_Reranker/models/reranker_finetuned_model/eval/CrossEncoderRerankingEvaluator_val_rerank_results_@10.csv\n",
            "Columns in evaluation CSV: ['epoch', 'steps', 'MAP', 'MRR@10', 'NDCG@10']\n",
            "Original data head:\n",
            "    epoch  steps       MAP    MRR@10   NDCG@10\n",
            "0    1.0   4633  0.796698  0.929016  0.872551\n",
            "1    2.0   9266  0.809297  0.931495  0.881555\n",
            "2    3.0  13899  0.810387  0.934761  0.882384\n",
            "3    1.0   4633  0.797673  0.929848  0.873533\n",
            "4    2.0   9266  0.809594  0.936482  0.882994\n",
            "5    3.0  13899  0.807672  0.933336  0.881431\n",
            "Cleaned data for plotting (first 6 rows after de-duping by steps and keeping best score):\n",
            "    epoch  steps       MAP    MRR@10   NDCG@10\n",
            "0    1.0   4633  0.797673  0.929848  0.873533\n",
            "1    2.0   9266  0.809594  0.936482  0.882994\n",
            "2    3.0  13899  0.810387  0.934761  0.882384\n",
            "Validation plot saved to: /content/drive/MyDrive/Colab_Book_Reranker/models/reranker_finetuned_model/val_rerank_NDCG_at_10_performance_plot.png\n"
          ]
        },
        {
          "output_type": "display_data",
          "data": {
            "text/plain": [
              "<Figure size 1600x600 with 2 Axes>"
            ],
            "image/png": "[encoded data removed]"
          },
          "metadata": {}
        }
      ],
      "source": [
        "import os\n",
        "import pandas as pd\n",
        "import matplotlib.pyplot as plt\n",
        "\n",
        "# --- Plotting CrossEncoder Validation Performance ---\n",
        "print(\"\\n--- Plotting CrossEncoder Validation Performance ---\")\n",
        "\n",
        "# This should be the same as the 'output_path' you gave to model.fit()\n",
        "# Ensure output_model_dir is defined correctly from your training setup\n",
        "# Example: output_model_dir = '/content/drive/MyDrive/Colab_Book_Reranker/models/reranker_finetuned_model'\n",
        "if 'output_model_dir' not in locals():\n",
        "    print(\"Error: 'output_model_dir' is not defined. Please set it to your model's output directory.\")\n",
        "    # exit() # Or handle as appropriate\n",
        "else:\n",
        "    output_model_dir_from_training = output_model_dir\n",
        "\n",
        "    # This MUST match the 'name' you gave to your CrossEncoderRerankingEvaluator instance\n",
        "    evaluator_name_assumed = 'val_rerank'\n",
        "\n",
        "    # Construct the filename based on the image you provided\n",
        "    # The \"@10\" seems to be part of how your file was named.\n",
        "    # The class name \"CrossEncoderRerankingEvaluator\" is also part of it.\n",
        "    eval_filename = f\"CrossEncoderRerankingEvaluator_{evaluator_name_assumed}_results_@10.csv\"\n",
        "\n",
        "    # Path where the file is located (based on your previous successful load message)\n",
        "    # It seems to be in an 'eval' subdirectory.\n",
        "    eval_filepath = os.path.join(output_model_dir_from_training, \"eval\", eval_filename)\n",
        "\n",
        "    # The primary score column we want to plot\n",
        "    score_column_to_plot = 'NDCG@10'\n",
        "\n",
        "    try:\n",
        "        if not os.path.exists(eval_filepath):\n",
        "            # Fallback if the exact path from the image isn't found, try the more standard SBERT name\n",
        "            standard_sbert_eval_filename = f\"evaluation_{evaluator_name_assumed}_results.csv\"\n",
        "            eval_filepath_standard = os.path.join(output_model_dir_from_training, \"eval\", standard_sbert_eval_filename)\n",
        "            if os.path.exists(eval_filepath_standard):\n",
        "                eval_filepath = eval_filepath_standard\n",
        "                print(f\"Found file using standard SBERT naming: {eval_filepath}\")\n",
        "            else:\n",
        "                 raise FileNotFoundError(f\"Evaluation file not found at primary path {eval_filepath} or standard SBERT path {eval_filepath_standard}\")\n",
        "\n",
        "\n",
        "        eval_results_df = pd.read_csv(eval_filepath)\n",
        "        print(f\"Successfully loaded evaluation results from: {eval_filepath}\")\n",
        "        print(\"Columns in evaluation CSV:\", eval_results_df.columns.tolist())\n",
        "        print(\"Original data head:\\n\", eval_results_df.head(6))\n",
        "\n",
        "\n",
        "        # --- Data Cleaning/Preparation for Plotting ---\n",
        "        # Handle potential duplicate step/epoch entries:\n",
        "        # Keep the entry with the highest 'score_column_to_plot' for each 'steps' value.\n",
        "        # This also helps if there were restarts or multiple runs saved to the same file.\n",
        "        # First sort by score descending, so when we drop duplicates, we keep the best one.\n",
        "        eval_results_df = eval_results_df.sort_values(by=['steps', score_column_to_plot], ascending=[True, False])\n",
        "        eval_results_df = eval_results_df.drop_duplicates(subset=['steps'], keep='first')\n",
        "\n",
        "        # Also, ensure it's sorted by steps for the step-wise plot\n",
        "        eval_results_df = eval_results_df.sort_values(by='steps').reset_index(drop=True)\n",
        "        print(\"Cleaned data for plotting (first 6 rows after de-duping by steps and keeping best score):\\n\", eval_results_df.head(6))\n",
        "\n",
        "\n",
        "        # Verify necessary columns are present after cleaning\n",
        "        required_columns_for_plot = ['epoch', 'steps', score_column_to_plot]\n",
        "        if not all(col in eval_results_df.columns for col in required_columns_for_plot):\n",
        "            missing = [col for col in required_columns_for_plot if col not in eval_results_df.columns]\n",
        "            print(f\"Error: Required columns for plotting {missing} not found in {eval_filepath} after cleaning. Cannot plot.\")\n",
        "        elif eval_results_df.empty:\n",
        "            print(f\"Error: DataFrame is empty after cleaning operations. Cannot plot.\")\n",
        "        else:\n",
        "            plt.figure(figsize=(16, 6)) # Made figure slightly wider\n",
        "\n",
        "            # Plot score vs steps\n",
        "            plt.subplot(1, 2, 1)\n",
        "            plt.plot(eval_results_df['steps'], eval_results_df[score_column_to_plot], marker='o', linestyle='-')\n",
        "            plt.title(f'Validation {score_column_to_plot} vs. Training Steps')\n",
        "            plt.xlabel('Training Steps')\n",
        "            plt.ylabel(score_column_to_plot)\n",
        "            plt.grid(True)\n",
        "\n",
        "            # Plot score vs epoch\n",
        "            plt.subplot(1, 2, 2)\n",
        "            # For the epoch plot, we want one distinct point per epoch.\n",
        "            # Take the data point corresponding to the highest step count for each epoch.\n",
        "            if 'epoch' in eval_results_df.columns and not eval_results_df.empty:\n",
        "                # After de-duping by 'steps', if 'evaluation_steps' was set to once per epoch,\n",
        "                # each 'steps' value should uniquely map to an epoch.\n",
        "                # We can group by epoch and take the row with the max step (which should be the only step for that epoch now).\n",
        "                epoch_end_evals = eval_results_df.loc[eval_results_df.groupby('epoch')['steps'].idxmax()]\n",
        "                # Ensure it's sorted by epoch for plotting\n",
        "                epoch_end_evals = epoch_end_evals.sort_values(by='epoch')\n",
        "            else:\n",
        "                epoch_end_evals = pd.DataFrame(columns=eval_results_df.columns)\n",
        "\n",
        "            if not epoch_end_evals.empty:\n",
        "                plt.plot(epoch_end_evals['epoch'], epoch_end_evals[score_column_to_plot], marker='o', linestyle='-')\n",
        "                # Ensure x-ticks are set correctly for epochs that have data\n",
        "                plt.xticks(epoch_end_evals['epoch'].unique().astype(float)) # Use .astype(float) if epoch is float like 1.0\n",
        "            else:\n",
        "                print(\"No data available for epoch plot after grouping.\")\n",
        "\n",
        "            plt.title(f'Validation {score_column_to_plot} vs. Epoch')\n",
        "            plt.xlabel('Epoch')\n",
        "            plt.ylabel(score_column_to_plot)\n",
        "            plt.grid(True)\n",
        "\n",
        "            plt.tight_layout()\n",
        "\n",
        "            # Save the plot\n",
        "            plot_save_filename = f\"{evaluator_name_assumed}_{score_column_to_plot.replace('@','_at_')}_performance_plot.png\"\n",
        "            plot_save_path = os.path.join(output_model_dir_from_training, plot_save_filename)\n",
        "            plt.savefig(plot_save_path)\n",
        "            print(f\"Validation plot saved to: {plot_save_path}\")\n",
        "            plt.show()\n",
        "\n",
        "    except FileNotFoundError:\n",
        "        print(f\"Evaluation results file not found. Main attempted path: {eval_filepath}\")\n",
        "        print(\"Plotting skipped. Please ensure:\")\n",
        "        print(f\"  1. `output_model_dir` ('{output_model_dir_from_training}') is correctly set.\")\n",
        "        print(f\"  2. The evaluator name used ('{evaluator_name_assumed}') matches the one in training.\")\n",
        "        print(f\"  3. Training completed at least one evaluation step and saved the results CSV.\")\n",
        "        print(f\"  4. The CSV file named similar to '{eval_filename}' exists, likely in an 'eval' subdirectory.\")\n",
        "    except Exception as e:\n",
        "        print(f\"An error occurred during plotting: {e}\")\n",
        "        import traceback\n",
        "        traceback.print_exc()\n"
      ]
    },
    {
      "cell_type": "markdown",
      "metadata": {
        "id": "xMpolb4Mztqg"
      },
      "source": [
        "## 6. Evaluation on Test Set"
      ]
    },
    {
      "cell_type": "code",
      "execution_count": 42,
      "metadata": {
        "id": "mskpnRdWztqg",
        "colab": {
          "base_uri": "https://localhost:8080/",
          "height": 406,
          "referenced_widgets": [
            "7e9321be47ae42828df6bb844d654dd3",
            "ac59d6b9fa5448418c2511c0eecf7c71",
            "64673b8f1cb344a8a20afac28e606017",
            "65825ac1e2594f36bf56e160b17361e9",
            "a1ec80345c3e422f8e647bb603036aaf",
            "db4baad984634fc086b7a9ac6ed55633",
            "ca15e3c3b72d4c6789144c43b04d1035",
            "74b0f7d3f2894f01a9016acd2af24f10",
            "fb517b5fedc94d7c8fc1433355c55f53",
            "9dfea71e873841299383c6e1958baf7e",
            "c951afc24e0b4e8997a376ac68c615a1"
          ]
        },
        "outputId": "cf3cdc7c-c2ac-410c-c315-b788e5a140c4"
      },
      "outputs": [
        {
          "output_type": "stream",
          "name": "stdout",
          "text": [
            "\n",
            "--- Evaluating Fine-Tuned CrossEncoder Model on Test Set ---\n",
            "Making predictions with the fine-tuned model...\n"
          ]
        },
        {
          "output_type": "display_data",
          "data": {
            "text/plain": [
              "Batches:   0%|          | 0/869 [00:00<?, ?it/s]"
            ],
            "application/vnd.jupyter.widget-view+json": {
              "version_major": 2,
              "version_minor": 0,
              "model_id": "7e9321be47ae42828df6bb844d654dd3"
            }
          },
          "metadata": {}
        },
        {
          "output_type": "stream",
          "name": "stdout",
          "text": [
            "\n",
            "--- Fine-Tuned Model Test Set Results ---\n",
            "Global ROC AUC: 0.8478\n",
            "Global Average Precision (across all items): 0.7084\n",
            "Mean Average Precision (MAP): 0.8087\n",
            "Mean Per-User NDCG@3: 0.7478\n",
            "Mean Per-User NDCG@5: 0.7992\n",
            "Mean Per-User NDCG@10: 0.8826\n",
            "--- Fine-Tuned Model Evaluation Finished ---\n",
            "\n",
            "--- Saved Metrics for Fine-Tuned Model (for later comparison) ---\n",
            "finetuned_global_roc_auc: 0.8477630504805191\n",
            "finetuned_global_ap: 0.7083979539874459\n",
            "finetuned_map: 0.8086608112072073\n",
            "finetuned_ndcg_3: 0.7478223409875145\n",
            "finetuned_ndcg_5: 0.7991898079229435\n",
            "finetuned_ndcg_10: 0.8825917383416094\n"
          ]
        }
      ],
      "source": [
        "from sklearn.metrics import roc_auc_score, average_precision_score, ndcg_score\n",
        "import pandas as pd\n",
        "import numpy as np\n",
        "\n",
        "print(\"\\n--- Evaluating Fine-Tuned CrossEncoder Model on Test Set ---\")\n",
        "\n",
        "# Initialize metric variables to None or a default (e.g., 0.0) in case evaluation fails\n",
        "finetuned_global_roc_auc = None\n",
        "finetuned_global_ap = None\n",
        "finetuned_map = None\n",
        "finetuned_ndcg_3 = None\n",
        "finetuned_ndcg_5 = None\n",
        "finetuned_ndcg_10 = None\n",
        "\n",
        "if 'test_df' not in locals() or not isinstance(test_df, pd.DataFrame) or test_df.empty:\n",
        "    print(\"Error: `test_df` is not defined, not a DataFrame, or is empty.\")\n",
        "    print(\"Please ensure `test_df` is available for final model evaluation.\")\n",
        "else:\n",
        "    if 'user_ctx' not in test_df.columns or 'book_text' not in test_df.columns or 'label' not in test_df.columns:\n",
        "        print(\"Error: `test_df` is missing one or more required columns: 'user_ctx', 'book_text', 'label'.\")\n",
        "    else:\n",
        "        # 1. Prepare test pairs for prediction\n",
        "        test_pairs_for_model = [[row.user_ctx, row.book_text] for row in test_df.itertuples()]\n",
        "\n",
        "        if not test_pairs_for_model:\n",
        "            print(\"Error: `test_pairs_for_model` list is empty. Cannot make predictions.\")\n",
        "        else:\n",
        "            print(\"Making predictions with the fine-tuned model...\")\n",
        "            # 2. Get Predictions from the fine-tuned model\n",
        "            # Make sure your 'model' variable refers to the trained model instance\n",
        "            try:\n",
        "                model_scores = model.predict(test_pairs_for_model, show_progress_bar=True)\n",
        "                true_labels = test_df['label'].values\n",
        "\n",
        "                if len(model_scores) == len(true_labels):\n",
        "                    print(f\"\\n--- Fine-Tuned Model Test Set Results ---\")\n",
        "\n",
        "                    # 3. Compute and Store Global Metrics\n",
        "                    finetuned_global_roc_auc = roc_auc_score(true_labels, model_scores)\n",
        "                    finetuned_global_ap = average_precision_score(true_labels, model_scores)\n",
        "                    print(f\"Global ROC AUC: {finetuned_global_roc_auc:.4f}\")\n",
        "                    print(f\"Global Average Precision (across all items): {finetuned_global_ap:.4f}\")\n",
        "\n",
        "                    # 4. Compute and Store Per-User Metrics (MAP, NDCG@3, NDCG@5, NDCG@10)\n",
        "                    user_ap_scores_ft = []\n",
        "                    user_ndcg_scores_at_3_ft = []\n",
        "                    user_ndcg_scores_at_5_ft = []\n",
        "                    user_ndcg_scores_at_10_ft = []\n",
        "\n",
        "                    if 'user_id' in test_df.columns:\n",
        "                        evaluation_df_ft = pd.DataFrame({\n",
        "                            'user_id': test_df['user_id'],\n",
        "                            'label': true_labels,\n",
        "                            'score': model_scores\n",
        "                        })\n",
        "\n",
        "                        for user_id_val in evaluation_df_ft['user_id'].unique():\n",
        "                            user_data = evaluation_df_ft[evaluation_df_ft['user_id'] == user_id_val]\n",
        "\n",
        "                            if not user_data.empty and user_data['label'].sum() > 0:\n",
        "                                y_true_user_list = user_data['label'].values.tolist()\n",
        "                                y_score_user_list = user_data['score'].values.tolist()\n",
        "\n",
        "                                user_ap = average_precision_score(y_true_user_list, y_score_user_list)\n",
        "                                user_ap_scores_ft.append(user_ap)\n",
        "\n",
        "                                y_true_user_ndcg = [y_true_user_list]\n",
        "                                y_score_user_ndcg = [y_score_user_list]\n",
        "\n",
        "                                k3 = min(3, len(user_data))\n",
        "                                if k3 > 0:\n",
        "                                    user_ndcg_3 = ndcg_score(y_true_user_ndcg, y_score_user_ndcg, k=k3)\n",
        "                                    user_ndcg_scores_at_3_ft.append(user_ndcg_3)\n",
        "\n",
        "                                k5 = min(5, len(user_data))\n",
        "                                if k5 > 0:\n",
        "                                    user_ndcg_5 = ndcg_score(y_true_user_ndcg, y_score_user_ndcg, k=k5)\n",
        "                                    user_ndcg_scores_at_5_ft.append(user_ndcg_5)\n",
        "\n",
        "                                k10 = min(10, len(user_data))\n",
        "                                if k10 > 0:\n",
        "                                    user_ndcg_10 = ndcg_score(y_true_user_ndcg, y_score_user_ndcg, k=k10)\n",
        "                                    user_ndcg_scores_at_10_ft.append(user_ndcg_10)\n",
        "\n",
        "                        if user_ap_scores_ft:\n",
        "                            finetuned_map = np.mean(user_ap_scores_ft)\n",
        "                            print(f\"Mean Average Precision (MAP): {finetuned_map:.4f}\")\n",
        "                        else:\n",
        "                            print(\"MAP could not be calculated.\")\n",
        "\n",
        "                        if user_ndcg_scores_at_3_ft:\n",
        "                            finetuned_ndcg_3 = np.mean(user_ndcg_scores_at_3_ft)\n",
        "                            print(f\"Mean Per-User NDCG@3: {finetuned_ndcg_3:.4f}\")\n",
        "                        else:\n",
        "                            print(\"Mean Per-User NDCG@3 could not be calculated.\")\n",
        "\n",
        "                        if user_ndcg_scores_at_5_ft:\n",
        "                            finetuned_ndcg_5 = np.mean(user_ndcg_scores_at_5_ft)\n",
        "                            print(f\"Mean Per-User NDCG@5: {finetuned_ndcg_5:.4f}\")\n",
        "                        else:\n",
        "                            print(\"Mean Per-User NDCG@5 could not be calculated.\")\n",
        "\n",
        "                        if user_ndcg_scores_at_10_ft:\n",
        "                            finetuned_ndcg_10 = np.mean(user_ndcg_scores_at_10_ft)\n",
        "                            print(f\"Mean Per-User NDCG@10: {finetuned_ndcg_10:.4f}\")\n",
        "                        else:\n",
        "                            print(\"Mean Per-User NDCG@10 could not be calculated.\")\n",
        "                    else:\n",
        "                        print(\"Error: 'user_id' column not found in test_df. Cannot calculate per-user metrics.\")\n",
        "                else:\n",
        "                    print(f\"Error: Mismatch in length between model_scores ({len(model_scores)}) and true_labels ({len(true_labels)}). Evaluation skipped.\")\n",
        "            except Exception as e:\n",
        "                print(f\"Error during prediction or evaluation with the fine-tuned model: {e}\")\n",
        "\n",
        "print(\"--- Fine-Tuned Model Evaluation Finished ---\")\n",
        "\n",
        "# You can now verify the variables:\n",
        "print(\"\\n--- Saved Metrics for Fine-Tuned Model (for later comparison) ---\")\n",
        "print(f\"finetuned_global_roc_auc: {finetuned_global_roc_auc}\")\n",
        "print(f\"finetuned_global_ap: {finetuned_global_ap}\")\n",
        "print(f\"finetuned_map: {finetuned_map}\")\n",
        "print(f\"finetuned_ndcg_3: {finetuned_ndcg_3}\")\n",
        "print(f\"finetuned_ndcg_5: {finetuned_ndcg_5}\")\n",
        "print(f\"finetuned_ndcg_10: {finetuned_ndcg_10}\")"
      ]
    },
    {
      "cell_type": "markdown",
      "metadata": {
        "id": "DLTjr9FTztqg"
      },
      "source": [
        "## 7. Comparison"
      ]
    },
    {
      "cell_type": "code",
      "execution_count": 45,
      "metadata": {
        "id": "eXnjZvZPztqg",
        "colab": {
          "base_uri": "https://localhost:8080/",
          "height": 1000
        },
        "outputId": "26c3670f-2784-4a63-8c29-2a4097785fea"
      },
      "outputs": [
        {
          "output_type": "stream",
          "name": "stdout",
          "text": [
            "--- Model Performance Comparison ---\n",
            "        Metric  Baseline  Fine-Tuned  Improvement  Improvement (%)\n",
            "Global ROC AUC  0.606728    0.847763     0.241035            39.73\n",
            "     Global AP  0.423680    0.708398     0.284718            67.20\n",
            "           MAP  0.601109    0.808661     0.207552            34.53\n",
            "        NDCG@3  0.492834    0.747822     0.254988            51.74\n",
            "        NDCG@5  0.582558    0.799190     0.216631            37.19\n",
            "       NDCG@10  0.701409    0.882592     0.181182            25.83\n",
            "\n",
            "==================================================\n",
            "\n"
          ]
        },
        {
          "output_type": "display_data",
          "data": {
            "text/plain": [
              "<Figure size 1200x700 with 1 Axes>"
            ],
            "image/png": "[encoded data removed]"
          },
          "metadata": {}
        },
        {
          "output_type": "display_data",
          "data": {
            "text/plain": [
              "<Figure size 1000x600 with 1 Axes>"
            ],
            "image/png": "[encoded data removed]"
          },
          "metadata": {}
        }
      ],
      "source": [
        "import pandas as pd\n",
        "import matplotlib.pyplot as plt\n",
        "import numpy as np\n",
        "\n",
        "# --- Metrics from Baseline Model ---\n",
        "baseline_metrics = {\n",
        "    'Global ROC AUC': baseline_global_roc_auc,\n",
        "    'Global AP': baseline_global_ap,\n",
        "    'MAP': baseline_map,\n",
        "    'NDCG@3': baseline_ndcg_3,\n",
        "    'NDCG@5': baseline_ndcg_5,\n",
        "    'NDCG@10': baseline_ndcg_10\n",
        "}\n",
        "\n",
        "# --- Metrics from Fine-Tuned Model ---\n",
        "finetuned_metrics = {\n",
        "    'Global ROC AUC': finetuned_global_roc_auc,\n",
        "    'Global AP': finetuned_global_ap,\n",
        "    'MAP': finetuned_map,\n",
        "    'NDCG@3': finetuned_ndcg_3,\n",
        "    'NDCG@5': finetuned_ndcg_5,\n",
        "    'NDCG@10': finetuned_ndcg_10\n",
        "}\n",
        "\n",
        "# 1. Create a Comparison Table\n",
        "metrics_data = {\n",
        "    'Metric': list(baseline_metrics.keys()),\n",
        "    'Baseline': list(baseline_metrics.values()),\n",
        "    'Fine-Tuned': list(finetuned_metrics.values())\n",
        "}\n",
        "comparison_df = pd.DataFrame(metrics_data)\n",
        "comparison_df['Improvement'] = comparison_df['Fine-Tuned'] - comparison_df['Baseline']\n",
        "comparison_df['Improvement (%)'] = (comparison_df['Improvement'] / comparison_df['Baseline']) * 100\n",
        "comparison_df['Improvement (%)'] = comparison_df['Improvement (%)'].round(2)\n",
        "\n",
        "print(\"--- Model Performance Comparison ---\")\n",
        "print(comparison_df.to_string(index=False))\n",
        "print(\"\\n\" + \"=\"*50 + \"\\n\")\n",
        "\n",
        "\n",
        "# 2. Generate Bar Charts for Visual Comparison\n",
        "metric_names = list(baseline_metrics.keys())\n",
        "baseline_values = list(baseline_metrics.values())\n",
        "finetuned_values = list(finetuned_metrics.values())\n",
        "\n",
        "num_metrics = len(metric_names)\n",
        "bar_width = 0.35\n",
        "index = np.arange(num_metrics)\n",
        "\n",
        "fig, ax = plt.subplots(figsize=(12, 7))\n",
        "\n",
        "rects1 = ax.bar(index - bar_width/2, baseline_values, bar_width, label='Baseline', color='skyblue')\n",
        "rects2 = ax.bar(index + bar_width/2, finetuned_values, bar_width, label='Fine-Tuned', color='coral')\n",
        "\n",
        "ax.set_ylabel('Scores')\n",
        "ax.set_title('Baseline vs. Fine-Tuned Model Performance by Metric')\n",
        "ax.set_xticks(index)\n",
        "ax.set_xticklabels(metric_names, rotation=45, ha=\"right\")\n",
        "ax.legend()\n",
        "\n",
        "def autolabel(rects):\n",
        "    for rect in rects:\n",
        "        height = rect.get_height()\n",
        "        ax.annotate(f'{height:.4f}',\n",
        "                    xy=(rect.get_x() + rect.get_width() / 2, height),\n",
        "                    xytext=(0, 3),\n",
        "                    textcoords=\"offset points\",\n",
        "                    ha='center', va='bottom',\n",
        "                    fontsize=8)\n",
        "\n",
        "autolabel(rects1)\n",
        "autolabel(rects2)\n",
        "\n",
        "fig.tight_layout()\n",
        "plt.show()\n",
        "\n",
        "key_per_user_metrics = ['MAP', 'NDCG@3', 'NDCG@5', 'NDCG@10']\n",
        "key_baseline_values = [baseline_metrics[m] for m in key_per_user_metrics]\n",
        "key_finetuned_values = [finetuned_metrics[m] for m in key_per_user_metrics]\n",
        "\n",
        "num_key_metrics = len(key_per_user_metrics)\n",
        "index_key = np.arange(num_key_metrics)\n",
        "\n",
        "fig_key, ax_key = plt.subplots(figsize=(10, 6))\n",
        "rects1_key = ax_key.bar(index_key - bar_width/2, key_baseline_values, bar_width, label='Baseline', color='skyblue')\n",
        "rects2_key = ax_key.bar(index_key + bar_width/2, key_finetuned_values, bar_width, label='Fine-Tuned', color='coral')\n",
        "\n",
        "ax_key.set_ylabel('Scores')\n",
        "ax_key.set_title('Key Per-User Metrics: Baseline vs. Fine-Tuned')\n",
        "ax_key.set_xticks(index_key)\n",
        "ax_key.set_xticklabels(key_per_user_metrics)\n",
        "ax_key.legend()\n",
        "\n",
        "autolabel(rects1_key)\n",
        "autolabel(rects2_key)\n",
        "\n",
        "fig_key.tight_layout()\n",
        "plt.show()\n"
      ]
    },
    {
      "cell_type": "markdown",
      "metadata": {
        "id": "eg07VsY5ztqh"
      },
      "source": [
        "## 7. Save & Load Model"
      ]
    },
    {
      "cell_type": "code",
      "source": [
        "from google.colab import files\n",
        "import os\n",
        "\n",
        "# 1. Define the path to your model folder on Google Drive\n",
        "gdrive_model_folder_path = '/content/drive/MyDrive/Colab_Book_Reranker/models/reranker_finetuned_model'\n",
        "\n",
        "# 2. Define the name for the zip file you want to create (it will be saved in Colab's root /content/ directory)\n",
        "local_zip_file_name = 'reranker_finetuned_model.zip'\n",
        "local_zip_file_path = f'/content/{local_zip_file_name}' # Full path for the local zip file\n",
        "\n",
        "# 3. Check if the Google Drive folder exists before trying to zip\n",
        "if os.path.exists(gdrive_model_folder_path):\n",
        "    print(f\"Zipping folder: {gdrive_model_folder_path}\")\n",
        "\n",
        "    parent_dir_of_model = os.path.dirname(gdrive_model_folder_path)\n",
        "    model_folder_name = os.path.basename(gdrive_model_folder_path)\n",
        "\n",
        "    # Construct the zip command:\n",
        "    # 1. cd into the parent directory of the model folder.\n",
        "    # 2. Zip the model folder from there. The paths in the zip will be relative to this parent directory.\n",
        "    #    The zip file itself will be created in the /content/ directory of Colab.\n",
        "    zip_command = f\"cd '{parent_dir_of_model}' && zip -r '{local_zip_file_path}' '{model_folder_name}'\"\n",
        "\n",
        "    print(f\"Executing command: {zip_command}\")\n",
        "    # Execute the zip command\n",
        "    zip_process_result = get_ipython().system_raw(zip_command) # Use system_raw to see output/errors\n",
        "\n",
        "    # Check if the zip file was created successfully in Colab's local storage\n",
        "    if os.path.exists(local_zip_file_path):\n",
        "        print(f\"Successfully created zip file: {local_zip_file_path}\")\n",
        "        # 4. Download the zip file\n",
        "        print(f\"Starting download of {local_zip_file_name}...\")\n",
        "        files.download(local_zip_file_path)\n",
        "        print(f\"If the download doesn't start automatically, check your browser's download permissions for this site.\")\n",
        "    else:\n",
        "        print(f\"Error: Zip file {local_zip_file_path} was not created.\")\n",
        "        if zip_process_result: # If system_raw captured something\n",
        "             print(f\"Zip command output/error: {zip_process_result}\")\n",
        "        else:\n",
        "             print(\"Check the command execution details if any errors were printed above by the shell.\")\n",
        "\n",
        "else:\n",
        "    print(f\"Error: Model folder not found at {gdrive_model_folder_path}. Cannot create zip file.\")"
      ],
      "metadata": {
        "colab": {
          "base_uri": "https://localhost:8080/",
          "height": 106
        },
        "id": "X8EJOzVpeysD",
        "outputId": "bd0b2a74-bc91-40f1-b062-06a005832405"
      },
      "execution_count": 48,
      "outputs": [
        {
          "output_type": "stream",
          "name": "stdout",
          "text": [
            "Zipping folder: /content/drive/MyDrive/Colab_Book_Reranker/models/reranker_finetuned_model\n",
            "Executing command: cd '/content/drive/MyDrive/Colab_Book_Reranker/models' && zip -r '/content/reranker_finetuned_model.zip' 'reranker_finetuned_model'\n",
            "Successfully created zip file: /content/reranker_finetuned_model.zip\n",
            "Starting download of reranker_finetuned_model.zip...\n"
          ]
        },
        {
          "output_type": "display_data",
          "data": {
            "text/plain": [
              "<IPython.core.display.Javascript object>"
            ],
            "application/javascript": [
              "\n",
              "    async function download(id, filename, size) {\n",
              "      if (!google.colab.kernel.accessAllowed) {\n",
              "        return;\n",
              "      }\n",
              "      const div = document.createElement('div');\n",
              "      const label = document.createElement('label');\n",
              "      label.textContent = `Downloading \"${filename}\": `;\n",
              "      div.appendChild(label);\n",
              "      const progress = document.createElement('progress');\n",
              "      progress.max = size;\n",
              "      div.appendChild(progress);\n",
              "      document.body.appendChild(div);\n",
              "\n",
              "      const buffers = [];\n",
              "      let downloaded = 0;\n",
              "\n",
              "      const channel = await google.colab.kernel.comms.open(id);\n",
              "      // Send a message to notify the kernel that we're ready.\n",
              "      channel.send({})\n",
              "\n",
              "      for await (const message of channel.messages) {\n",
              "        // Send a message to notify the kernel that we're ready.\n",
              "        channel.send({})\n",
              "        if (message.buffers) {\n",
              "          for (const buffer of message.buffers) {\n",
              "            buffers.push(buffer);\n",
              "            downloaded += buffer.byteLength;\n",
              "            progress.value = downloaded;\n",
              "          }\n",
              "        }\n",
              "      }\n",
              "      const blob = new Blob(buffers, {type: 'application/binary'});\n",
              "      const a = document.createElement('a');\n",
              "      a.href = window.URL.createObjectURL(blob);\n",
              "      a.download = filename;\n",
              "      div.appendChild(a);\n",
              "      a.click();\n",
              "      div.remove();\n",
              "    }\n",
              "  "
            ]
          },
          "metadata": {}
        },
        {
          "output_type": "display_data",
          "data": {
            "text/plain": [
              "<IPython.core.display.Javascript object>"
            ],
            "application/javascript": [
              "download(\"download_b40dbcdf-4021-4feb-8afb-b46d5ecd89c7\", \"reranker_finetuned_model.zip\", 83559654)"
            ]
          },
          "metadata": {}
        },
        {
          "output_type": "stream",
          "name": "stdout",
          "text": [
            "If the download doesn't start automatically, check your browser's download permissions for this site.\n"
          ]
        }
      ]
    },
    {
      "cell_type": "code",
      "execution_count": 46,
      "metadata": {
        "id": "c6vPzbzvztqh"
      },
      "outputs": [],
      "source": [
        "# Model is already saved during fit\n",
        "# To load:\n",
        "from sentence_transformers import CrossEncoder\n",
        "loaded_model = CrossEncoder(output_model_dir)\n"
      ]
    },
    {
      "cell_type": "markdown",
      "metadata": {
        "id": "DTTs4wRlztqh"
      },
      "source": [
        "## 8. Inference Example"
      ]
    },
    {
      "cell_type": "code",
      "execution_count": null,
      "metadata": {
        "id": "qsdugadUztqh"
      },
      "outputs": [],
      "source": [
        "# Given a single user and its candidates\n",
        "user_ctx = \"Favorite books: ...\"  # fetched or precomputed\n",
        "candidate_texts = [\"Title: ... Description: ...\", ...]\n",
        "pairs = [[user_ctx, txt] for txt in candidate_texts]\n",
        "scores = loaded_model.predict(pairs)\n",
        "\n",
        "# Rerank\n",
        "candidates = ['book1', 'book2', ...]\n",
        "ranked = sorted(zip(candidates, scores), key=lambda x: x[1], reverse=True)\n",
        "print(ranked[:10])"
      ]
    }
  ],
  "metadata": {
    "kernelspec": {
      "display_name": "Python 3",
      "name": "python3"
    },
    "language_info": {
      "codemirror_mode": {
        "name": "ipython",
        "version": 3
      },
      "file_extension": ".py",
      "mimetype": "text/x-python",
      "name": "python",
      "nbconvert_exporter": "python",
      "pygments_lexer": "ipython3",
      "version": "3.13.3"
    },
    "colab": {
      "provenance": [],
      "machine_shape": "hm",
      "gpuType": "L4"
    },
    "accelerator": "GPU",
    "widgets": {
      "application/vnd.jupyter.widget-state+json": {
        "b42add579a9e4bac80319ec70dcd68f9": {
          "model_module": "@jupyter-widgets/controls",
          "model_name": "HBoxModel",
          "model_module_version": "1.5.0",
          "state": {
            "_dom_classes": [],
            "_model_module": "@jupyter-widgets/controls",
            "_model_module_version": "1.5.0",
            "_model_name": "HBoxModel",
            "_view_count": null,
            "_view_module": "@jupyter-widgets/controls",
            "_view_module_version": "1.5.0",
            "_view_name": "HBoxView",
            "box_style": "",
            "children": [
              "IPY_MODEL_1b8040bbf28d4ff2b0369a232fcd24d6",
              "IPY_MODEL_347dc7d9248a42cbacdb7cd704105c7d",
              "IPY_MODEL_efedacd956254317824e5d1df24df38c"
            ],
            "layout": "IPY_MODEL_146332b2f0a54c0a933f118247e4f98f"
          }
        },
        "1b8040bbf28d4ff2b0369a232fcd24d6": {
          "model_module": "@jupyter-widgets/controls",
          "model_name": "HTMLModel",
          "model_module_version": "1.5.0",
          "state": {
            "_dom_classes": [],
            "_model_module": "@jupyter-widgets/controls",
            "_model_module_version": "1.5.0",
            "_model_name": "HTMLModel",
            "_view_count": null,
            "_view_module": "@jupyter-widgets/controls",
            "_view_module_version": "1.5.0",
            "_view_name": "HTMLView",
            "description": "",
            "description_tooltip": null,
            "layout": "IPY_MODEL_29128e889ed648efab0dbbeb64121e16",
            "placeholder": "​",
            "style": "IPY_MODEL_3fadb1a33b6342c899730d73724eba67",
            "value": "Batches: 100%"
          }
        },
        "347dc7d9248a42cbacdb7cd704105c7d": {
          "model_module": "@jupyter-widgets/controls",
          "model_name": "FloatProgressModel",
          "model_module_version": "1.5.0",
          "state": {
            "_dom_classes": [],
            "_model_module": "@jupyter-widgets/controls",
            "_model_module_version": "1.5.0",
            "_model_name": "FloatProgressModel",
            "_view_count": null,
            "_view_module": "@jupyter-widgets/controls",
            "_view_module_version": "1.5.0",
            "_view_name": "ProgressView",
            "bar_style": "success",
            "description": "",
            "description_tooltip": null,
            "layout": "IPY_MODEL_9a91abc3e8c74834ae63cb27327bdf72",
            "max": 869,
            "min": 0,
            "orientation": "horizontal",
            "style": "IPY_MODEL_9f5acc641a914a1db4540318e2d2bc3b",
            "value": 869
          }
        },
        "efedacd956254317824e5d1df24df38c": {
          "model_module": "@jupyter-widgets/controls",
          "model_name": "HTMLModel",
          "model_module_version": "1.5.0",
          "state": {
            "_dom_classes": [],
            "_model_module": "@jupyter-widgets/controls",
            "_model_module_version": "1.5.0",
            "_model_name": "HTMLModel",
            "_view_count": null,
            "_view_module": "@jupyter-widgets/controls",
            "_view_module_version": "1.5.0",
            "_view_name": "HTMLView",
            "description": "",
            "description_tooltip": null,
            "layout": "IPY_MODEL_650646240a6a4084982de6c623f5b4d1",
            "placeholder": "​",
            "style": "IPY_MODEL_44e8cf543ba94c87a62f4e88603d6baf",
            "value": " 869/869 [00:45&lt;00:00, 19.29it/s]"
          }
        },
        "146332b2f0a54c0a933f118247e4f98f": {
          "model_module": "@jupyter-widgets/base",
          "model_name": "LayoutModel",
          "model_module_version": "1.2.0",
          "state": {
            "_model_module": "@jupyter-widgets/base",
            "_model_module_version": "1.2.0",
            "_model_name": "LayoutModel",
            "_view_count": null,
            "_view_module": "@jupyter-widgets/base",
            "_view_module_version": "1.2.0",
            "_view_name": "LayoutView",
            "align_content": null,
            "align_items": null,
            "align_self": null,
            "border": null,
            "bottom": null,
            "display": null,
            "flex": null,
            "flex_flow": null,
            "grid_area": null,
            "grid_auto_columns": null,
            "grid_auto_flow": null,
            "grid_auto_rows": null,
            "grid_column": null,
            "grid_gap": null,
            "grid_row": null,
            "grid_template_areas": null,
            "grid_template_columns": null,
            "grid_template_rows": null,
            "height": null,
            "justify_content": null,
            "justify_items": null,
            "left": null,
            "margin": null,
            "max_height": null,
            "max_width": null,
            "min_height": null,
            "min_width": null,
            "object_fit": null,
            "object_position": null,
            "order": null,
            "overflow": null,
            "overflow_x": null,
            "overflow_y": null,
            "padding": null,
            "right": null,
            "top": null,
            "visibility": null,
            "width": null
          }
        },
        "29128e889ed648efab0dbbeb64121e16": {
          "model_module": "@jupyter-widgets/base",
          "model_name": "LayoutModel",
          "model_module_version": "1.2.0",
          "state": {
            "_model_module": "@jupyter-widgets/base",
            "_model_module_version": "1.2.0",
            "_model_name": "LayoutModel",
            "_view_count": null,
            "_view_module": "@jupyter-widgets/base",
            "_view_module_version": "1.2.0",
            "_view_name": "LayoutView",
            "align_content": null,
            "align_items": null,
            "align_self": null,
            "border": null,
            "bottom": null,
            "display": null,
            "flex": null,
            "flex_flow": null,
            "grid_area": null,
            "grid_auto_columns": null,
            "grid_auto_flow": null,
            "grid_auto_rows": null,
            "grid_column": null,
            "grid_gap": null,
            "grid_row": null,
            "grid_template_areas": null,
            "grid_template_columns": null,
            "grid_template_rows": null,
            "height": null,
            "justify_content": null,
            "justify_items": null,
            "left": null,
            "margin": null,
            "max_height": null,
            "max_width": null,
            "min_height": null,
            "min_width": null,
            "object_fit": null,
            "object_position": null,
            "order": null,
            "overflow": null,
            "overflow_x": null,
            "overflow_y": null,
            "padding": null,
            "right": null,
            "top": null,
            "visibility": null,
            "width": null
          }
        },
        "3fadb1a33b6342c899730d73724eba67": {
          "model_module": "@jupyter-widgets/controls",
          "model_name": "DescriptionStyleModel",
          "model_module_version": "1.5.0",
          "state": {
            "_model_module": "@jupyter-widgets/controls",
            "_model_module_version": "1.5.0",
            "_model_name": "DescriptionStyleModel",
            "_view_count": null,
            "_view_module": "@jupyter-widgets/base",
            "_view_module_version": "1.2.0",
            "_view_name": "StyleView",
            "description_width": ""
          }
        },
        "9a91abc3e8c74834ae63cb27327bdf72": {
          "model_module": "@jupyter-widgets/base",
          "model_name": "LayoutModel",
          "model_module_version": "1.2.0",
          "state": {
            "_model_module": "@jupyter-widgets/base",
            "_model_module_version": "1.2.0",
            "_model_name": "LayoutModel",
            "_view_count": null,
            "_view_module": "@jupyter-widgets/base",
            "_view_module_version": "1.2.0",
            "_view_name": "LayoutView",
            "align_content": null,
            "align_items": null,
            "align_self": null,
            "border": null,
            "bottom": null,
            "display": null,
            "flex": null,
            "flex_flow": null,
            "grid_area": null,
            "grid_auto_columns": null,
            "grid_auto_flow": null,
            "grid_auto_rows": null,
            "grid_column": null,
            "grid_gap": null,
            "grid_row": null,
            "grid_template_areas": null,
            "grid_template_columns": null,
            "grid_template_rows": null,
            "height": null,
            "justify_content": null,
            "justify_items": null,
            "left": null,
            "margin": null,
            "max_height": null,
            "max_width": null,
            "min_height": null,
            "min_width": null,
            "object_fit": null,
            "object_position": null,
            "order": null,
            "overflow": null,
            "overflow_x": null,
            "overflow_y": null,
            "padding": null,
            "right": null,
            "top": null,
            "visibility": null,
            "width": null
          }
        },
        "9f5acc641a914a1db4540318e2d2bc3b": {
          "model_module": "@jupyter-widgets/controls",
          "model_name": "ProgressStyleModel",
          "model_module_version": "1.5.0",
          "state": {
            "_model_module": "@jupyter-widgets/controls",
            "_model_module_version": "1.5.0",
            "_model_name": "ProgressStyleModel",
            "_view_count": null,
            "_view_module": "@jupyter-widgets/base",
            "_view_module_version": "1.2.0",
            "_view_name": "StyleView",
            "bar_color": null,
            "description_width": ""
          }
        },
        "650646240a6a4084982de6c623f5b4d1": {
          "model_module": "@jupyter-widgets/base",
          "model_name": "LayoutModel",
          "model_module_version": "1.2.0",
          "state": {
            "_model_module": "@jupyter-widgets/base",
            "_model_module_version": "1.2.0",
            "_model_name": "LayoutModel",
            "_view_count": null,
            "_view_module": "@jupyter-widgets/base",
            "_view_module_version": "1.2.0",
            "_view_name": "LayoutView",
            "align_content": null,
            "align_items": null,
            "align_self": null,
            "border": null,
            "bottom": null,
            "display": null,
            "flex": null,
            "flex_flow": null,
            "grid_area": null,
            "grid_auto_columns": null,
            "grid_auto_flow": null,
            "grid_auto_rows": null,
            "grid_column": null,
            "grid_gap": null,
            "grid_row": null,
            "grid_template_areas": null,
            "grid_template_columns": null,
            "grid_template_rows": null,
            "height": null,
            "justify_content": null,
            "justify_items": null,
            "left": null,
            "margin": null,
            "max_height": null,
            "max_width": null,
            "min_height": null,
            "min_width": null,
            "object_fit": null,
            "object_position": null,
            "order": null,
            "overflow": null,
            "overflow_x": null,
            "overflow_y": null,
            "padding": null,
            "right": null,
            "top": null,
            "visibility": null,
            "width": null
          }
        },
        "44e8cf543ba94c87a62f4e88603d6baf": {
          "model_module": "@jupyter-widgets/controls",
          "model_name": "DescriptionStyleModel",
          "model_module_version": "1.5.0",
          "state": {
            "_model_module": "@jupyter-widgets/controls",
            "_model_module_version": "1.5.0",
            "_model_name": "DescriptionStyleModel",
            "_view_count": null,
            "_view_module": "@jupyter-widgets/base",
            "_view_module_version": "1.2.0",
            "_view_name": "StyleView",
            "description_width": ""
          }
        },
        "7e9321be47ae42828df6bb844d654dd3": {
          "model_module": "@jupyter-widgets/controls",
          "model_name": "HBoxModel",
          "model_module_version": "1.5.0",
          "state": {
            "_dom_classes": [],
            "_model_module": "@jupyter-widgets/controls",
            "_model_module_version": "1.5.0",
            "_model_name": "HBoxModel",
            "_view_count": null,
            "_view_module": "@jupyter-widgets/controls",
            "_view_module_version": "1.5.0",
            "_view_name": "HBoxView",
            "box_style": "",
            "children": [
              "IPY_MODEL_ac59d6b9fa5448418c2511c0eecf7c71",
              "IPY_MODEL_64673b8f1cb344a8a20afac28e606017",
              "IPY_MODEL_65825ac1e2594f36bf56e160b17361e9"
            ],
            "layout": "IPY_MODEL_a1ec80345c3e422f8e647bb603036aaf"
          }
        },
        "ac59d6b9fa5448418c2511c0eecf7c71": {
          "model_module": "@jupyter-widgets/controls",
          "model_name": "HTMLModel",
          "model_module_version": "1.5.0",
          "state": {
            "_dom_classes": [],
            "_model_module": "@jupyter-widgets/controls",
            "_model_module_version": "1.5.0",
            "_model_name": "HTMLModel",
            "_view_count": null,
            "_view_module": "@jupyter-widgets/controls",
            "_view_module_version": "1.5.0",
            "_view_name": "HTMLView",
            "description": "",
            "description_tooltip": null,
            "layout": "IPY_MODEL_db4baad984634fc086b7a9ac6ed55633",
            "placeholder": "​",
            "style": "IPY_MODEL_ca15e3c3b72d4c6789144c43b04d1035",
            "value": "Batches: 100%"
          }
        },
        "64673b8f1cb344a8a20afac28e606017": {
          "model_module": "@jupyter-widgets/controls",
          "model_name": "FloatProgressModel",
          "model_module_version": "1.5.0",
          "state": {
            "_dom_classes": [],
            "_model_module": "@jupyter-widgets/controls",
            "_model_module_version": "1.5.0",
            "_model_name": "FloatProgressModel",
            "_view_count": null,
            "_view_module": "@jupyter-widgets/controls",
            "_view_module_version": "1.5.0",
            "_view_name": "ProgressView",
            "bar_style": "success",
            "description": "",
            "description_tooltip": null,
            "layout": "IPY_MODEL_74b0f7d3f2894f01a9016acd2af24f10",
            "max": 869,
            "min": 0,
            "orientation": "horizontal",
            "style": "IPY_MODEL_fb517b5fedc94d7c8fc1433355c55f53",
            "value": 869
          }
        },
        "65825ac1e2594f36bf56e160b17361e9": {
          "model_module": "@jupyter-widgets/controls",
          "model_name": "HTMLModel",
          "model_module_version": "1.5.0",
          "state": {
            "_dom_classes": [],
            "_model_module": "@jupyter-widgets/controls",
            "_model_module_version": "1.5.0",
            "_model_name": "HTMLModel",
            "_view_count": null,
            "_view_module": "@jupyter-widgets/controls",
            "_view_module_version": "1.5.0",
            "_view_name": "HTMLView",
            "description": "",
            "description_tooltip": null,
            "layout": "IPY_MODEL_9dfea71e873841299383c6e1958baf7e",
            "placeholder": "​",
            "style": "IPY_MODEL_c951afc24e0b4e8997a376ac68c615a1",
            "value": " 869/869 [00:45&lt;00:00, 19.10it/s]"
          }
        },
        "a1ec80345c3e422f8e647bb603036aaf": {
          "model_module": "@jupyter-widgets/base",
          "model_name": "LayoutModel",
          "model_module_version": "1.2.0",
          "state": {
            "_model_module": "@jupyter-widgets/base",
            "_model_module_version": "1.2.0",
            "_model_name": "LayoutModel",
            "_view_count": null,
            "_view_module": "@jupyter-widgets/base",
            "_view_module_version": "1.2.0",
            "_view_name": "LayoutView",
            "align_content": null,
            "align_items": null,
            "align_self": null,
            "border": null,
            "bottom": null,
            "display": null,
            "flex": null,
            "flex_flow": null,
            "grid_area": null,
            "grid_auto_columns": null,
            "grid_auto_flow": null,
            "grid_auto_rows": null,
            "grid_column": null,
            "grid_gap": null,
            "grid_row": null,
            "grid_template_areas": null,
            "grid_template_columns": null,
            "grid_template_rows": null,
            "height": null,
            "justify_content": null,
            "justify_items": null,
            "left": null,
            "margin": null,
            "max_height": null,
            "max_width": null,
            "min_height": null,
            "min_width": null,
            "object_fit": null,
            "object_position": null,
            "order": null,
            "overflow": null,
            "overflow_x": null,
            "overflow_y": null,
            "padding": null,
            "right": null,
            "top": null,
            "visibility": null,
            "width": null
          }
        },
        "db4baad984634fc086b7a9ac6ed55633": {
          "model_module": "@jupyter-widgets/base",
          "model_name": "LayoutModel",
          "model_module_version": "1.2.0",
          "state": {
            "_model_module": "@jupyter-widgets/base",
            "_model_module_version": "1.2.0",
            "_model_name": "LayoutModel",
            "_view_count": null,
            "_view_module": "@jupyter-widgets/base",
            "_view_module_version": "1.2.0",
            "_view_name": "LayoutView",
            "align_content": null,
            "align_items": null,
            "align_self": null,
            "border": null,
            "bottom": null,
            "display": null,
            "flex": null,
            "flex_flow": null,
            "grid_area": null,
            "grid_auto_columns": null,
            "grid_auto_flow": null,
            "grid_auto_rows": null,
            "grid_column": null,
            "grid_gap": null,
            "grid_row": null,
            "grid_template_areas": null,
            "grid_template_columns": null,
            "grid_template_rows": null,
            "height": null,
            "justify_content": null,
            "justify_items": null,
            "left": null,
            "margin": null,
            "max_height": null,
            "max_width": null,
            "min_height": null,
            "min_width": null,
            "object_fit": null,
            "object_position": null,
            "order": null,
            "overflow": null,
            "overflow_x": null,
            "overflow_y": null,
            "padding": null,
            "right": null,
            "top": null,
            "visibility": null,
            "width": null
          }
        },
        "ca15e3c3b72d4c6789144c43b04d1035": {
          "model_module": "@jupyter-widgets/controls",
          "model_name": "DescriptionStyleModel",
          "model_module_version": "1.5.0",
          "state": {
            "_model_module": "@jupyter-widgets/controls",
            "_model_module_version": "1.5.0",
            "_model_name": "DescriptionStyleModel",
            "_view_count": null,
            "_view_module": "@jupyter-widgets/base",
            "_view_module_version": "1.2.0",
            "_view_name": "StyleView",
            "description_width": ""
          }
        },
        "74b0f7d3f2894f01a9016acd2af24f10": {
          "model_module": "@jupyter-widgets/base",
          "model_name": "LayoutModel",
          "model_module_version": "1.2.0",
          "state": {
            "_model_module": "@jupyter-widgets/base",
            "_model_module_version": "1.2.0",
            "_model_name": "LayoutModel",
            "_view_count": null,
            "_view_module": "@jupyter-widgets/base",
            "_view_module_version": "1.2.0",
            "_view_name": "LayoutView",
            "align_content": null,
            "align_items": null,
            "align_self": null,
            "border": null,
            "bottom": null,
            "display": null,
            "flex": null,
            "flex_flow": null,
            "grid_area": null,
            "grid_auto_columns": null,
            "grid_auto_flow": null,
            "grid_auto_rows": null,
            "grid_column": null,
            "grid_gap": null,
            "grid_row": null,
            "grid_template_areas": null,
            "grid_template_columns": null,
            "grid_template_rows": null,
            "height": null,
            "justify_content": null,
            "justify_items": null,
            "left": null,
            "margin": null,
            "max_height": null,
            "max_width": null,
            "min_height": null,
            "min_width": null,
            "object_fit": null,
            "object_position": null,
            "order": null,
            "overflow": null,
            "overflow_x": null,
            "overflow_y": null,
            "padding": null,
            "right": null,
            "top": null,
            "visibility": null,
            "width": null
          }
        },
        "fb517b5fedc94d7c8fc1433355c55f53": {
          "model_module": "@jupyter-widgets/controls",
          "model_name": "ProgressStyleModel",
          "model_module_version": "1.5.0",
          "state": {
            "_model_module": "@jupyter-widgets/controls",
            "_model_module_version": "1.5.0",
            "_model_name": "ProgressStyleModel",
            "_view_count": null,
            "_view_module": "@jupyter-widgets/base",
            "_view_module_version": "1.2.0",
            "_view_name": "StyleView",
            "bar_color": null,
            "description_width": ""
          }
        },
        "9dfea71e873841299383c6e1958baf7e": {
          "model_module": "@jupyter-widgets/base",
          "model_name": "LayoutModel",
          "model_module_version": "1.2.0",
          "state": {
            "_model_module": "@jupyter-widgets/base",
            "_model_module_version": "1.2.0",
            "_model_name": "LayoutModel",
            "_view_count": null,
            "_view_module": "@jupyter-widgets/base",
            "_view_module_version": "1.2.0",
            "_view_name": "LayoutView",
            "align_content": null,
            "align_items": null,
            "align_self": null,
            "border": null,
            "bottom": null,
            "display": null,
            "flex": null,
            "flex_flow": null,
            "grid_area": null,
            "grid_auto_columns": null,
            "grid_auto_flow": null,
            "grid_auto_rows": null,
            "grid_column": null,
            "grid_gap": null,
            "grid_row": null,
            "grid_template_areas": null,
            "grid_template_columns": null,
            "grid_template_rows": null,
            "height": null,
            "justify_content": null,
            "justify_items": null,
            "left": null,
            "margin": null,
            "max_height": null,
            "max_width": null,
            "min_height": null,
            "min_width": null,
            "object_fit": null,
            "object_position": null,
            "order": null,
            "overflow": null,
            "overflow_x": null,
            "overflow_y": null,
            "padding": null,
            "right": null,
            "top": null,
            "visibility": null,
            "width": null
          }
        },
        "c951afc24e0b4e8997a376ac68c615a1": {
          "model_module": "@jupyter-widgets/controls",
          "model_name": "DescriptionStyleModel",
          "model_module_version": "1.5.0",
          "state": {
            "_model_module": "@jupyter-widgets/controls",
            "_model_module_version": "1.5.0",
            "_model_name": "DescriptionStyleModel",
            "_view_count": null,
            "_view_module": "@jupyter-widgets/base",
            "_view_module_version": "1.2.0",
            "_view_name": "StyleView",
            "description_width": ""
          }
        }
      }
    }
  },
  "nbformat": 4,
  "nbformat_minor": 0
}